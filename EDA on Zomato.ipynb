{
 "cells": [
  {
   "cell_type": "markdown",
   "id": "a0cde930",
   "metadata": {},
   "source": [
    "# Zomato Restaurant Analysis "
   ]
  },
  {
   "cell_type": "markdown",
   "id": "23e5d47e",
   "metadata": {},
   "source": [
    "#### Project Overview"
   ]
  },
  {
   "cell_type": "markdown",
   "id": "e0bea9e1",
   "metadata": {},
   "source": [
    "The restaurant industry significantly shapes regional culinary cultures, influenced by urbanization and increasing dining-out trends. This study utilizes a Zomato dataset to analyze consumer preferences, spending habits, and service expectations in India. Starting with over 200,000 rows, data cleaning narrowed it down to 55,000 unique restaurants, ensuring accurate insights. Through exploratory data analysis (EDA), the research identifies patterns in restaurant distribution, types, cuisine preferences, and pricing, providing valuable information for restaurateurs and investors. The study aims to highlight growth opportunities and identify profitable restaurant types in India."
   ]
  },
  {
   "cell_type": "markdown",
   "id": "beb16fb4",
   "metadata": {},
   "source": [
    "## Import Libraries "
   ]
  },
  {
   "cell_type": "code",
   "execution_count": 1,
   "id": "8c4547f9",
   "metadata": {},
   "outputs": [
    {
     "name": "stderr",
     "output_type": "stream",
     "text": [
      "C:\\Users\\mayur\\anaconda3\\lib\\site-packages\\pandas\\core\\computation\\expressions.py:21: UserWarning: Pandas requires version '2.8.4' or newer of 'numexpr' (version '2.8.1' currently installed).\n",
      "  from pandas.core.computation.check import NUMEXPR_INSTALLED\n",
      "C:\\Users\\mayur\\anaconda3\\lib\\site-packages\\pandas\\core\\arrays\\masked.py:60: UserWarning: Pandas requires version '1.3.6' or newer of 'bottleneck' (version '1.3.4' currently installed).\n",
      "  from pandas.core import (\n"
     ]
    }
   ],
   "source": [
    "import pandas as pd\n",
    "import numpy as np\n",
    "import matplotlib.pyplot as plt\n",
    "import seaborn as sns\n",
    "import warnings\n",
    "warnings.filterwarnings('ignore')\n",
    "import os"
   ]
  },
  {
   "cell_type": "markdown",
   "id": "843c0891",
   "metadata": {},
   "source": [
    "### Load the dataset\n"
   ]
  },
  {
   "cell_type": "code",
   "execution_count": 2,
   "id": "19c78335",
   "metadata": {
    "scrolled": false
   },
   "outputs": [
    {
     "data": {
      "text/html": [
       "<div>\n",
       "<style scoped>\n",
       "    .dataframe tbody tr th:only-of-type {\n",
       "        vertical-align: middle;\n",
       "    }\n",
       "\n",
       "    .dataframe tbody tr th {\n",
       "        vertical-align: top;\n",
       "    }\n",
       "\n",
       "    .dataframe thead th {\n",
       "        text-align: right;\n",
       "    }\n",
       "</style>\n",
       "<table border=\"1\" class=\"dataframe\">\n",
       "  <thead>\n",
       "    <tr style=\"text-align: right;\">\n",
       "      <th></th>\n",
       "      <th>res_id</th>\n",
       "      <th>name</th>\n",
       "      <th>establishment</th>\n",
       "      <th>url</th>\n",
       "      <th>address</th>\n",
       "      <th>city</th>\n",
       "      <th>city_id</th>\n",
       "      <th>locality</th>\n",
       "      <th>latitude</th>\n",
       "      <th>longitude</th>\n",
       "      <th>...</th>\n",
       "      <th>price_range</th>\n",
       "      <th>currency</th>\n",
       "      <th>highlights</th>\n",
       "      <th>aggregate_rating</th>\n",
       "      <th>rating_text</th>\n",
       "      <th>votes</th>\n",
       "      <th>photo_count</th>\n",
       "      <th>opentable_support</th>\n",
       "      <th>delivery</th>\n",
       "      <th>takeaway</th>\n",
       "    </tr>\n",
       "  </thead>\n",
       "  <tbody>\n",
       "    <tr>\n",
       "      <th>0</th>\n",
       "      <td>3400299</td>\n",
       "      <td>Bikanervala</td>\n",
       "      <td>['Quick Bites']</td>\n",
       "      <td>https://www.zomato.com/agra/bikanervala-khanda...</td>\n",
       "      <td>Kalyani Point, Near Tulsi Cinema, Bypass Road,...</td>\n",
       "      <td>Agra</td>\n",
       "      <td>34</td>\n",
       "      <td>Khandari</td>\n",
       "      <td>27.211450</td>\n",
       "      <td>78.002381</td>\n",
       "      <td>...</td>\n",
       "      <td>2</td>\n",
       "      <td>Rs.</td>\n",
       "      <td>['Lunch', 'Takeaway Available', 'Credit Card',...</td>\n",
       "      <td>4.4</td>\n",
       "      <td>Very Good</td>\n",
       "      <td>814</td>\n",
       "      <td>154</td>\n",
       "      <td>0.0</td>\n",
       "      <td>-1</td>\n",
       "      <td>-1</td>\n",
       "    </tr>\n",
       "    <tr>\n",
       "      <th>1</th>\n",
       "      <td>3400005</td>\n",
       "      <td>Mama Chicken Mama Franky House</td>\n",
       "      <td>['Quick Bites']</td>\n",
       "      <td>https://www.zomato.com/agra/mama-chicken-mama-...</td>\n",
       "      <td>Main Market, Sadar Bazaar, Agra Cantt, Agra</td>\n",
       "      <td>Agra</td>\n",
       "      <td>34</td>\n",
       "      <td>Agra Cantt</td>\n",
       "      <td>27.160569</td>\n",
       "      <td>78.011583</td>\n",
       "      <td>...</td>\n",
       "      <td>2</td>\n",
       "      <td>Rs.</td>\n",
       "      <td>['Delivery', 'No Alcohol Available', 'Dinner',...</td>\n",
       "      <td>4.4</td>\n",
       "      <td>Very Good</td>\n",
       "      <td>1203</td>\n",
       "      <td>161</td>\n",
       "      <td>0.0</td>\n",
       "      <td>-1</td>\n",
       "      <td>-1</td>\n",
       "    </tr>\n",
       "    <tr>\n",
       "      <th>2</th>\n",
       "      <td>3401013</td>\n",
       "      <td>Bhagat Halwai</td>\n",
       "      <td>['Quick Bites']</td>\n",
       "      <td>https://www.zomato.com/agra/bhagat-halwai-2-sh...</td>\n",
       "      <td>62/1, Near Easy Day, West Shivaji Nagar, Goalp...</td>\n",
       "      <td>Agra</td>\n",
       "      <td>34</td>\n",
       "      <td>Shahganj</td>\n",
       "      <td>27.182938</td>\n",
       "      <td>77.979684</td>\n",
       "      <td>...</td>\n",
       "      <td>1</td>\n",
       "      <td>Rs.</td>\n",
       "      <td>['No Alcohol Available', 'Dinner', 'Takeaway A...</td>\n",
       "      <td>4.2</td>\n",
       "      <td>Very Good</td>\n",
       "      <td>801</td>\n",
       "      <td>107</td>\n",
       "      <td>0.0</td>\n",
       "      <td>1</td>\n",
       "      <td>-1</td>\n",
       "    </tr>\n",
       "    <tr>\n",
       "      <th>3</th>\n",
       "      <td>3400290</td>\n",
       "      <td>Bhagat Halwai</td>\n",
       "      <td>['Quick Bites']</td>\n",
       "      <td>https://www.zomato.com/agra/bhagat-halwai-civi...</td>\n",
       "      <td>Near Anjana Cinema, Nehru Nagar, Civil Lines, ...</td>\n",
       "      <td>Agra</td>\n",
       "      <td>34</td>\n",
       "      <td>Civil Lines</td>\n",
       "      <td>27.205668</td>\n",
       "      <td>78.004799</td>\n",
       "      <td>...</td>\n",
       "      <td>1</td>\n",
       "      <td>Rs.</td>\n",
       "      <td>['Takeaway Available', 'Credit Card', 'Lunch',...</td>\n",
       "      <td>4.3</td>\n",
       "      <td>Very Good</td>\n",
       "      <td>693</td>\n",
       "      <td>157</td>\n",
       "      <td>0.0</td>\n",
       "      <td>1</td>\n",
       "      <td>-1</td>\n",
       "    </tr>\n",
       "    <tr>\n",
       "      <th>4</th>\n",
       "      <td>3401744</td>\n",
       "      <td>The Salt Cafe Kitchen &amp; Bar</td>\n",
       "      <td>['Casual Dining']</td>\n",
       "      <td>https://www.zomato.com/agra/the-salt-cafe-kitc...</td>\n",
       "      <td>1C,3rd Floor, Fatehabad Road, Tajganj, Agra</td>\n",
       "      <td>Agra</td>\n",
       "      <td>34</td>\n",
       "      <td>Tajganj</td>\n",
       "      <td>27.157709</td>\n",
       "      <td>78.052421</td>\n",
       "      <td>...</td>\n",
       "      <td>3</td>\n",
       "      <td>Rs.</td>\n",
       "      <td>['Lunch', 'Serves Alcohol', 'Cash', 'Credit Ca...</td>\n",
       "      <td>4.9</td>\n",
       "      <td>Excellent</td>\n",
       "      <td>470</td>\n",
       "      <td>291</td>\n",
       "      <td>0.0</td>\n",
       "      <td>1</td>\n",
       "      <td>-1</td>\n",
       "    </tr>\n",
       "    <tr>\n",
       "      <th>...</th>\n",
       "      <td>...</td>\n",
       "      <td>...</td>\n",
       "      <td>...</td>\n",
       "      <td>...</td>\n",
       "      <td>...</td>\n",
       "      <td>...</td>\n",
       "      <td>...</td>\n",
       "      <td>...</td>\n",
       "      <td>...</td>\n",
       "      <td>...</td>\n",
       "      <td>...</td>\n",
       "      <td>...</td>\n",
       "      <td>...</td>\n",
       "      <td>...</td>\n",
       "      <td>...</td>\n",
       "      <td>...</td>\n",
       "      <td>...</td>\n",
       "      <td>...</td>\n",
       "      <td>...</td>\n",
       "      <td>...</td>\n",
       "      <td>...</td>\n",
       "    </tr>\n",
       "    <tr>\n",
       "      <th>211939</th>\n",
       "      <td>3202251</td>\n",
       "      <td>Kali Mirch Cafe And Restaurant</td>\n",
       "      <td>['Casual Dining']</td>\n",
       "      <td>https://www.zomato.com/vadodara/kali-mirch-caf...</td>\n",
       "      <td>Manu Smriti Complex, Near Navrachna School, GI...</td>\n",
       "      <td>Vadodara</td>\n",
       "      <td>32</td>\n",
       "      <td>Fatehgunj</td>\n",
       "      <td>22.336931</td>\n",
       "      <td>73.192356</td>\n",
       "      <td>...</td>\n",
       "      <td>2</td>\n",
       "      <td>Rs.</td>\n",
       "      <td>['Dinner', 'Cash', 'Lunch', 'Delivery', 'Indoo...</td>\n",
       "      <td>4.1</td>\n",
       "      <td>Very Good</td>\n",
       "      <td>243</td>\n",
       "      <td>40</td>\n",
       "      <td>0.0</td>\n",
       "      <td>-1</td>\n",
       "      <td>-1</td>\n",
       "    </tr>\n",
       "    <tr>\n",
       "      <th>211940</th>\n",
       "      <td>3200996</td>\n",
       "      <td>Raju Omlet</td>\n",
       "      <td>['Quick Bites']</td>\n",
       "      <td>https://www.zomato.com/vadodara/raju-omlet-kar...</td>\n",
       "      <td>Mahalaxmi Apartment, Opposite B O B, Karoli Ba...</td>\n",
       "      <td>Vadodara</td>\n",
       "      <td>32</td>\n",
       "      <td>Karelibaug</td>\n",
       "      <td>22.322455</td>\n",
       "      <td>73.197203</td>\n",
       "      <td>...</td>\n",
       "      <td>1</td>\n",
       "      <td>Rs.</td>\n",
       "      <td>['Dinner', 'Cash', 'Takeaway Available', 'Debi...</td>\n",
       "      <td>4.1</td>\n",
       "      <td>Very Good</td>\n",
       "      <td>187</td>\n",
       "      <td>40</td>\n",
       "      <td>0.0</td>\n",
       "      <td>1</td>\n",
       "      <td>-1</td>\n",
       "    </tr>\n",
       "    <tr>\n",
       "      <th>211941</th>\n",
       "      <td>18984164</td>\n",
       "      <td>The Grand Thakar</td>\n",
       "      <td>['Casual Dining']</td>\n",
       "      <td>https://www.zomato.com/vadodara/the-grand-thak...</td>\n",
       "      <td>3rd Floor, Shreem Shalini Mall, Opposite Conqu...</td>\n",
       "      <td>Vadodara</td>\n",
       "      <td>32</td>\n",
       "      <td>Alkapuri</td>\n",
       "      <td>22.310563</td>\n",
       "      <td>73.171163</td>\n",
       "      <td>...</td>\n",
       "      <td>2</td>\n",
       "      <td>Rs.</td>\n",
       "      <td>['Dinner', 'Cash', 'Debit Card', 'Lunch', 'Tak...</td>\n",
       "      <td>4.0</td>\n",
       "      <td>Very Good</td>\n",
       "      <td>111</td>\n",
       "      <td>38</td>\n",
       "      <td>0.0</td>\n",
       "      <td>-1</td>\n",
       "      <td>-1</td>\n",
       "    </tr>\n",
       "    <tr>\n",
       "      <th>211942</th>\n",
       "      <td>3201138</td>\n",
       "      <td>Subway</td>\n",
       "      <td>['Quick Bites']</td>\n",
       "      <td>https://www.zomato.com/vadodara/subway-1-akota...</td>\n",
       "      <td>G-2, Vedant Platina, Near Cosmos, Akota, Vadodara</td>\n",
       "      <td>Vadodara</td>\n",
       "      <td>32</td>\n",
       "      <td>Akota</td>\n",
       "      <td>22.270027</td>\n",
       "      <td>73.143068</td>\n",
       "      <td>...</td>\n",
       "      <td>2</td>\n",
       "      <td>Rs.</td>\n",
       "      <td>['Dinner', 'Delivery', 'Credit Card', 'Lunch',...</td>\n",
       "      <td>3.7</td>\n",
       "      <td>Good</td>\n",
       "      <td>128</td>\n",
       "      <td>34</td>\n",
       "      <td>0.0</td>\n",
       "      <td>1</td>\n",
       "      <td>-1</td>\n",
       "    </tr>\n",
       "    <tr>\n",
       "      <th>211943</th>\n",
       "      <td>18879846</td>\n",
       "      <td>Freshco's - The Health Cafe</td>\n",
       "      <td>['Café']</td>\n",
       "      <td>https://www.zomato.com/vadodara/freshcos-the-h...</td>\n",
       "      <td>Shop 7, Ground Floor, Opposite Natubhai Circle...</td>\n",
       "      <td>Vadodara</td>\n",
       "      <td>32</td>\n",
       "      <td>Vadiwadi</td>\n",
       "      <td>22.309935</td>\n",
       "      <td>73.158768</td>\n",
       "      <td>...</td>\n",
       "      <td>2</td>\n",
       "      <td>Rs.</td>\n",
       "      <td>['Dinner', 'Cash', 'Takeaway Available', 'Debi...</td>\n",
       "      <td>4.0</td>\n",
       "      <td>Very Good</td>\n",
       "      <td>93</td>\n",
       "      <td>53</td>\n",
       "      <td>0.0</td>\n",
       "      <td>1</td>\n",
       "      <td>-1</td>\n",
       "    </tr>\n",
       "  </tbody>\n",
       "</table>\n",
       "<p>211944 rows × 26 columns</p>\n",
       "</div>"
      ],
      "text/plain": [
       "          res_id                            name      establishment  \\\n",
       "0        3400299                     Bikanervala    ['Quick Bites']   \n",
       "1        3400005  Mama Chicken Mama Franky House    ['Quick Bites']   \n",
       "2        3401013                   Bhagat Halwai    ['Quick Bites']   \n",
       "3        3400290                   Bhagat Halwai    ['Quick Bites']   \n",
       "4        3401744     The Salt Cafe Kitchen & Bar  ['Casual Dining']   \n",
       "...          ...                             ...                ...   \n",
       "211939   3202251  Kali Mirch Cafe And Restaurant  ['Casual Dining']   \n",
       "211940   3200996                      Raju Omlet    ['Quick Bites']   \n",
       "211941  18984164                The Grand Thakar  ['Casual Dining']   \n",
       "211942   3201138                          Subway    ['Quick Bites']   \n",
       "211943  18879846     Freshco's - The Health Cafe           ['Café']   \n",
       "\n",
       "                                                      url  \\\n",
       "0       https://www.zomato.com/agra/bikanervala-khanda...   \n",
       "1       https://www.zomato.com/agra/mama-chicken-mama-...   \n",
       "2       https://www.zomato.com/agra/bhagat-halwai-2-sh...   \n",
       "3       https://www.zomato.com/agra/bhagat-halwai-civi...   \n",
       "4       https://www.zomato.com/agra/the-salt-cafe-kitc...   \n",
       "...                                                   ...   \n",
       "211939  https://www.zomato.com/vadodara/kali-mirch-caf...   \n",
       "211940  https://www.zomato.com/vadodara/raju-omlet-kar...   \n",
       "211941  https://www.zomato.com/vadodara/the-grand-thak...   \n",
       "211942  https://www.zomato.com/vadodara/subway-1-akota...   \n",
       "211943  https://www.zomato.com/vadodara/freshcos-the-h...   \n",
       "\n",
       "                                                  address      city  city_id  \\\n",
       "0       Kalyani Point, Near Tulsi Cinema, Bypass Road,...      Agra       34   \n",
       "1             Main Market, Sadar Bazaar, Agra Cantt, Agra      Agra       34   \n",
       "2       62/1, Near Easy Day, West Shivaji Nagar, Goalp...      Agra       34   \n",
       "3       Near Anjana Cinema, Nehru Nagar, Civil Lines, ...      Agra       34   \n",
       "4             1C,3rd Floor, Fatehabad Road, Tajganj, Agra      Agra       34   \n",
       "...                                                   ...       ...      ...   \n",
       "211939  Manu Smriti Complex, Near Navrachna School, GI...  Vadodara       32   \n",
       "211940  Mahalaxmi Apartment, Opposite B O B, Karoli Ba...  Vadodara       32   \n",
       "211941  3rd Floor, Shreem Shalini Mall, Opposite Conqu...  Vadodara       32   \n",
       "211942  G-2, Vedant Platina, Near Cosmos, Akota, Vadodara  Vadodara       32   \n",
       "211943  Shop 7, Ground Floor, Opposite Natubhai Circle...  Vadodara       32   \n",
       "\n",
       "           locality   latitude  longitude  ... price_range  currency  \\\n",
       "0          Khandari  27.211450  78.002381  ...           2       Rs.   \n",
       "1        Agra Cantt  27.160569  78.011583  ...           2       Rs.   \n",
       "2          Shahganj  27.182938  77.979684  ...           1       Rs.   \n",
       "3       Civil Lines  27.205668  78.004799  ...           1       Rs.   \n",
       "4           Tajganj  27.157709  78.052421  ...           3       Rs.   \n",
       "...             ...        ...        ...  ...         ...       ...   \n",
       "211939    Fatehgunj  22.336931  73.192356  ...           2       Rs.   \n",
       "211940   Karelibaug  22.322455  73.197203  ...           1       Rs.   \n",
       "211941     Alkapuri  22.310563  73.171163  ...           2       Rs.   \n",
       "211942        Akota  22.270027  73.143068  ...           2       Rs.   \n",
       "211943     Vadiwadi  22.309935  73.158768  ...           2       Rs.   \n",
       "\n",
       "                                               highlights aggregate_rating  \\\n",
       "0       ['Lunch', 'Takeaway Available', 'Credit Card',...              4.4   \n",
       "1       ['Delivery', 'No Alcohol Available', 'Dinner',...              4.4   \n",
       "2       ['No Alcohol Available', 'Dinner', 'Takeaway A...              4.2   \n",
       "3       ['Takeaway Available', 'Credit Card', 'Lunch',...              4.3   \n",
       "4       ['Lunch', 'Serves Alcohol', 'Cash', 'Credit Ca...              4.9   \n",
       "...                                                   ...              ...   \n",
       "211939  ['Dinner', 'Cash', 'Lunch', 'Delivery', 'Indoo...              4.1   \n",
       "211940  ['Dinner', 'Cash', 'Takeaway Available', 'Debi...              4.1   \n",
       "211941  ['Dinner', 'Cash', 'Debit Card', 'Lunch', 'Tak...              4.0   \n",
       "211942  ['Dinner', 'Delivery', 'Credit Card', 'Lunch',...              3.7   \n",
       "211943  ['Dinner', 'Cash', 'Takeaway Available', 'Debi...              4.0   \n",
       "\n",
       "       rating_text  votes  photo_count opentable_support delivery  takeaway  \n",
       "0        Very Good    814          154               0.0       -1        -1  \n",
       "1        Very Good   1203          161               0.0       -1        -1  \n",
       "2        Very Good    801          107               0.0        1        -1  \n",
       "3        Very Good    693          157               0.0        1        -1  \n",
       "4        Excellent    470          291               0.0        1        -1  \n",
       "...            ...    ...          ...               ...      ...       ...  \n",
       "211939   Very Good    243           40               0.0       -1        -1  \n",
       "211940   Very Good    187           40               0.0        1        -1  \n",
       "211941   Very Good    111           38               0.0       -1        -1  \n",
       "211942        Good    128           34               0.0        1        -1  \n",
       "211943   Very Good     93           53               0.0        1        -1  \n",
       "\n",
       "[211944 rows x 26 columns]"
      ]
     },
     "execution_count": 2,
     "metadata": {},
     "output_type": "execute_result"
    }
   ],
   "source": [
    "df=pd.read_csv(\"zomato_restaurants_in_India.csv\")\n",
    "df"
   ]
  },
  {
   "cell_type": "markdown",
   "id": "23fb8a82",
   "metadata": {},
   "source": [
    "# Dataset Overview & Cleaning"
   ]
  },
  {
   "cell_type": "code",
   "execution_count": 3,
   "id": "9bc6684b",
   "metadata": {},
   "outputs": [
    {
     "data": {
      "text/plain": [
       "(211944, 26)"
      ]
     },
     "execution_count": 3,
     "metadata": {},
     "output_type": "execute_result"
    }
   ],
   "source": [
    "df.shape"
   ]
  },
  {
   "cell_type": "code",
   "execution_count": 4,
   "id": "d0cd316b",
   "metadata": {},
   "outputs": [
    {
     "data": {
      "text/plain": [
       "55568"
      ]
     },
     "execution_count": 4,
     "metadata": {},
     "output_type": "execute_result"
    }
   ],
   "source": [
    "df['res_id'].nunique()"
   ]
  },
  {
   "cell_type": "markdown",
   "id": "1d9bb22a",
   "metadata": {},
   "source": [
    "###  Remove duplicate restaurant entries based on 'res_id'"
   ]
  },
  {
   "cell_type": "code",
   "execution_count": 5,
   "id": "455ef258",
   "metadata": {},
   "outputs": [],
   "source": [
    "df.drop_duplicates('res_id',keep='first',inplace=True)"
   ]
  },
  {
   "cell_type": "code",
   "execution_count": 6,
   "id": "9645d28a",
   "metadata": {},
   "outputs": [
    {
     "data": {
      "text/html": [
       "<div>\n",
       "<style scoped>\n",
       "    .dataframe tbody tr th:only-of-type {\n",
       "        vertical-align: middle;\n",
       "    }\n",
       "\n",
       "    .dataframe tbody tr th {\n",
       "        vertical-align: top;\n",
       "    }\n",
       "\n",
       "    .dataframe thead th {\n",
       "        text-align: right;\n",
       "    }\n",
       "</style>\n",
       "<table border=\"1\" class=\"dataframe\">\n",
       "  <thead>\n",
       "    <tr style=\"text-align: right;\">\n",
       "      <th></th>\n",
       "      <th>res_id</th>\n",
       "      <th>name</th>\n",
       "      <th>establishment</th>\n",
       "      <th>url</th>\n",
       "      <th>address</th>\n",
       "      <th>city</th>\n",
       "      <th>city_id</th>\n",
       "      <th>locality</th>\n",
       "      <th>latitude</th>\n",
       "      <th>longitude</th>\n",
       "      <th>...</th>\n",
       "      <th>price_range</th>\n",
       "      <th>currency</th>\n",
       "      <th>highlights</th>\n",
       "      <th>aggregate_rating</th>\n",
       "      <th>rating_text</th>\n",
       "      <th>votes</th>\n",
       "      <th>photo_count</th>\n",
       "      <th>opentable_support</th>\n",
       "      <th>delivery</th>\n",
       "      <th>takeaway</th>\n",
       "    </tr>\n",
       "  </thead>\n",
       "  <tbody>\n",
       "    <tr>\n",
       "      <th>0</th>\n",
       "      <td>3400299</td>\n",
       "      <td>Bikanervala</td>\n",
       "      <td>['Quick Bites']</td>\n",
       "      <td>https://www.zomato.com/agra/bikanervala-khanda...</td>\n",
       "      <td>Kalyani Point, Near Tulsi Cinema, Bypass Road,...</td>\n",
       "      <td>Agra</td>\n",
       "      <td>34</td>\n",
       "      <td>Khandari</td>\n",
       "      <td>27.211450</td>\n",
       "      <td>78.002381</td>\n",
       "      <td>...</td>\n",
       "      <td>2</td>\n",
       "      <td>Rs.</td>\n",
       "      <td>['Lunch', 'Takeaway Available', 'Credit Card',...</td>\n",
       "      <td>4.4</td>\n",
       "      <td>Very Good</td>\n",
       "      <td>814</td>\n",
       "      <td>154</td>\n",
       "      <td>0.0</td>\n",
       "      <td>-1</td>\n",
       "      <td>-1</td>\n",
       "    </tr>\n",
       "    <tr>\n",
       "      <th>1</th>\n",
       "      <td>3400005</td>\n",
       "      <td>Mama Chicken Mama Franky House</td>\n",
       "      <td>['Quick Bites']</td>\n",
       "      <td>https://www.zomato.com/agra/mama-chicken-mama-...</td>\n",
       "      <td>Main Market, Sadar Bazaar, Agra Cantt, Agra</td>\n",
       "      <td>Agra</td>\n",
       "      <td>34</td>\n",
       "      <td>Agra Cantt</td>\n",
       "      <td>27.160569</td>\n",
       "      <td>78.011583</td>\n",
       "      <td>...</td>\n",
       "      <td>2</td>\n",
       "      <td>Rs.</td>\n",
       "      <td>['Delivery', 'No Alcohol Available', 'Dinner',...</td>\n",
       "      <td>4.4</td>\n",
       "      <td>Very Good</td>\n",
       "      <td>1203</td>\n",
       "      <td>161</td>\n",
       "      <td>0.0</td>\n",
       "      <td>-1</td>\n",
       "      <td>-1</td>\n",
       "    </tr>\n",
       "    <tr>\n",
       "      <th>2</th>\n",
       "      <td>3401013</td>\n",
       "      <td>Bhagat Halwai</td>\n",
       "      <td>['Quick Bites']</td>\n",
       "      <td>https://www.zomato.com/agra/bhagat-halwai-2-sh...</td>\n",
       "      <td>62/1, Near Easy Day, West Shivaji Nagar, Goalp...</td>\n",
       "      <td>Agra</td>\n",
       "      <td>34</td>\n",
       "      <td>Shahganj</td>\n",
       "      <td>27.182938</td>\n",
       "      <td>77.979684</td>\n",
       "      <td>...</td>\n",
       "      <td>1</td>\n",
       "      <td>Rs.</td>\n",
       "      <td>['No Alcohol Available', 'Dinner', 'Takeaway A...</td>\n",
       "      <td>4.2</td>\n",
       "      <td>Very Good</td>\n",
       "      <td>801</td>\n",
       "      <td>107</td>\n",
       "      <td>0.0</td>\n",
       "      <td>1</td>\n",
       "      <td>-1</td>\n",
       "    </tr>\n",
       "    <tr>\n",
       "      <th>3</th>\n",
       "      <td>3400290</td>\n",
       "      <td>Bhagat Halwai</td>\n",
       "      <td>['Quick Bites']</td>\n",
       "      <td>https://www.zomato.com/agra/bhagat-halwai-civi...</td>\n",
       "      <td>Near Anjana Cinema, Nehru Nagar, Civil Lines, ...</td>\n",
       "      <td>Agra</td>\n",
       "      <td>34</td>\n",
       "      <td>Civil Lines</td>\n",
       "      <td>27.205668</td>\n",
       "      <td>78.004799</td>\n",
       "      <td>...</td>\n",
       "      <td>1</td>\n",
       "      <td>Rs.</td>\n",
       "      <td>['Takeaway Available', 'Credit Card', 'Lunch',...</td>\n",
       "      <td>4.3</td>\n",
       "      <td>Very Good</td>\n",
       "      <td>693</td>\n",
       "      <td>157</td>\n",
       "      <td>0.0</td>\n",
       "      <td>1</td>\n",
       "      <td>-1</td>\n",
       "    </tr>\n",
       "    <tr>\n",
       "      <th>4</th>\n",
       "      <td>3401744</td>\n",
       "      <td>The Salt Cafe Kitchen &amp; Bar</td>\n",
       "      <td>['Casual Dining']</td>\n",
       "      <td>https://www.zomato.com/agra/the-salt-cafe-kitc...</td>\n",
       "      <td>1C,3rd Floor, Fatehabad Road, Tajganj, Agra</td>\n",
       "      <td>Agra</td>\n",
       "      <td>34</td>\n",
       "      <td>Tajganj</td>\n",
       "      <td>27.157709</td>\n",
       "      <td>78.052421</td>\n",
       "      <td>...</td>\n",
       "      <td>3</td>\n",
       "      <td>Rs.</td>\n",
       "      <td>['Lunch', 'Serves Alcohol', 'Cash', 'Credit Ca...</td>\n",
       "      <td>4.9</td>\n",
       "      <td>Excellent</td>\n",
       "      <td>470</td>\n",
       "      <td>291</td>\n",
       "      <td>0.0</td>\n",
       "      <td>1</td>\n",
       "      <td>-1</td>\n",
       "    </tr>\n",
       "    <tr>\n",
       "      <th>...</th>\n",
       "      <td>...</td>\n",
       "      <td>...</td>\n",
       "      <td>...</td>\n",
       "      <td>...</td>\n",
       "      <td>...</td>\n",
       "      <td>...</td>\n",
       "      <td>...</td>\n",
       "      <td>...</td>\n",
       "      <td>...</td>\n",
       "      <td>...</td>\n",
       "      <td>...</td>\n",
       "      <td>...</td>\n",
       "      <td>...</td>\n",
       "      <td>...</td>\n",
       "      <td>...</td>\n",
       "      <td>...</td>\n",
       "      <td>...</td>\n",
       "      <td>...</td>\n",
       "      <td>...</td>\n",
       "      <td>...</td>\n",
       "      <td>...</td>\n",
       "    </tr>\n",
       "    <tr>\n",
       "      <th>211882</th>\n",
       "      <td>19142822</td>\n",
       "      <td>Shree Janta Ice Cream</td>\n",
       "      <td>['Dessert Parlour']</td>\n",
       "      <td>https://www.zomato.com/vadodara/shree-janta-ic...</td>\n",
       "      <td>Ground Floor, 5 Ronak Plaza, Tulsidham Char Ra...</td>\n",
       "      <td>Vadodara</td>\n",
       "      <td>32</td>\n",
       "      <td>Manjalpur</td>\n",
       "      <td>22.270516</td>\n",
       "      <td>73.196408</td>\n",
       "      <td>...</td>\n",
       "      <td>1</td>\n",
       "      <td>Rs.</td>\n",
       "      <td>['Cash', 'Takeaway Available', 'Delivery', 'In...</td>\n",
       "      <td>2.9</td>\n",
       "      <td>Average</td>\n",
       "      <td>4</td>\n",
       "      <td>1</td>\n",
       "      <td>0.0</td>\n",
       "      <td>1</td>\n",
       "      <td>-1</td>\n",
       "    </tr>\n",
       "    <tr>\n",
       "      <th>211925</th>\n",
       "      <td>18984164</td>\n",
       "      <td>The Grand Thakar</td>\n",
       "      <td>['Casual Dining']</td>\n",
       "      <td>https://www.zomato.com/vadodara/the-grand-thak...</td>\n",
       "      <td>3rd Floor, Shreem Shalini Mall, Opposite Conqu...</td>\n",
       "      <td>Vadodara</td>\n",
       "      <td>32</td>\n",
       "      <td>Alkapuri</td>\n",
       "      <td>22.310563</td>\n",
       "      <td>73.171163</td>\n",
       "      <td>...</td>\n",
       "      <td>2</td>\n",
       "      <td>Rs.</td>\n",
       "      <td>['Dinner', 'Cash', 'Debit Card', 'Lunch', 'Tak...</td>\n",
       "      <td>4.0</td>\n",
       "      <td>Very Good</td>\n",
       "      <td>111</td>\n",
       "      <td>38</td>\n",
       "      <td>0.0</td>\n",
       "      <td>-1</td>\n",
       "      <td>-1</td>\n",
       "    </tr>\n",
       "    <tr>\n",
       "      <th>211926</th>\n",
       "      <td>18019952</td>\n",
       "      <td>Geeta lodge</td>\n",
       "      <td>['Casual Dining']</td>\n",
       "      <td>https://www.zomato.com/vadodara/geeta-lodge-al...</td>\n",
       "      <td>Shop 11, Ground Floor, Atlantis K-10, Tower A,...</td>\n",
       "      <td>Vadodara</td>\n",
       "      <td>32</td>\n",
       "      <td>Alkapuri</td>\n",
       "      <td>22.317731</td>\n",
       "      <td>73.168107</td>\n",
       "      <td>...</td>\n",
       "      <td>1</td>\n",
       "      <td>Rs.</td>\n",
       "      <td>['Dinner', 'Cash', 'Credit Card', 'Lunch', 'Ta...</td>\n",
       "      <td>3.9</td>\n",
       "      <td>Good</td>\n",
       "      <td>207</td>\n",
       "      <td>14</td>\n",
       "      <td>0.0</td>\n",
       "      <td>-1</td>\n",
       "      <td>-1</td>\n",
       "    </tr>\n",
       "    <tr>\n",
       "      <th>211940</th>\n",
       "      <td>3200996</td>\n",
       "      <td>Raju Omlet</td>\n",
       "      <td>['Quick Bites']</td>\n",
       "      <td>https://www.zomato.com/vadodara/raju-omlet-kar...</td>\n",
       "      <td>Mahalaxmi Apartment, Opposite B O B, Karoli Ba...</td>\n",
       "      <td>Vadodara</td>\n",
       "      <td>32</td>\n",
       "      <td>Karelibaug</td>\n",
       "      <td>22.322455</td>\n",
       "      <td>73.197203</td>\n",
       "      <td>...</td>\n",
       "      <td>1</td>\n",
       "      <td>Rs.</td>\n",
       "      <td>['Dinner', 'Cash', 'Takeaway Available', 'Debi...</td>\n",
       "      <td>4.1</td>\n",
       "      <td>Very Good</td>\n",
       "      <td>187</td>\n",
       "      <td>40</td>\n",
       "      <td>0.0</td>\n",
       "      <td>1</td>\n",
       "      <td>-1</td>\n",
       "    </tr>\n",
       "    <tr>\n",
       "      <th>211942</th>\n",
       "      <td>3201138</td>\n",
       "      <td>Subway</td>\n",
       "      <td>['Quick Bites']</td>\n",
       "      <td>https://www.zomato.com/vadodara/subway-1-akota...</td>\n",
       "      <td>G-2, Vedant Platina, Near Cosmos, Akota, Vadodara</td>\n",
       "      <td>Vadodara</td>\n",
       "      <td>32</td>\n",
       "      <td>Akota</td>\n",
       "      <td>22.270027</td>\n",
       "      <td>73.143068</td>\n",
       "      <td>...</td>\n",
       "      <td>2</td>\n",
       "      <td>Rs.</td>\n",
       "      <td>['Dinner', 'Delivery', 'Credit Card', 'Lunch',...</td>\n",
       "      <td>3.7</td>\n",
       "      <td>Good</td>\n",
       "      <td>128</td>\n",
       "      <td>34</td>\n",
       "      <td>0.0</td>\n",
       "      <td>1</td>\n",
       "      <td>-1</td>\n",
       "    </tr>\n",
       "  </tbody>\n",
       "</table>\n",
       "<p>55568 rows × 26 columns</p>\n",
       "</div>"
      ],
      "text/plain": [
       "          res_id                            name        establishment  \\\n",
       "0        3400299                     Bikanervala      ['Quick Bites']   \n",
       "1        3400005  Mama Chicken Mama Franky House      ['Quick Bites']   \n",
       "2        3401013                   Bhagat Halwai      ['Quick Bites']   \n",
       "3        3400290                   Bhagat Halwai      ['Quick Bites']   \n",
       "4        3401744     The Salt Cafe Kitchen & Bar    ['Casual Dining']   \n",
       "...          ...                             ...                  ...   \n",
       "211882  19142822           Shree Janta Ice Cream  ['Dessert Parlour']   \n",
       "211925  18984164                The Grand Thakar    ['Casual Dining']   \n",
       "211926  18019952                     Geeta lodge    ['Casual Dining']   \n",
       "211940   3200996                      Raju Omlet      ['Quick Bites']   \n",
       "211942   3201138                          Subway      ['Quick Bites']   \n",
       "\n",
       "                                                      url  \\\n",
       "0       https://www.zomato.com/agra/bikanervala-khanda...   \n",
       "1       https://www.zomato.com/agra/mama-chicken-mama-...   \n",
       "2       https://www.zomato.com/agra/bhagat-halwai-2-sh...   \n",
       "3       https://www.zomato.com/agra/bhagat-halwai-civi...   \n",
       "4       https://www.zomato.com/agra/the-salt-cafe-kitc...   \n",
       "...                                                   ...   \n",
       "211882  https://www.zomato.com/vadodara/shree-janta-ic...   \n",
       "211925  https://www.zomato.com/vadodara/the-grand-thak...   \n",
       "211926  https://www.zomato.com/vadodara/geeta-lodge-al...   \n",
       "211940  https://www.zomato.com/vadodara/raju-omlet-kar...   \n",
       "211942  https://www.zomato.com/vadodara/subway-1-akota...   \n",
       "\n",
       "                                                  address      city  city_id  \\\n",
       "0       Kalyani Point, Near Tulsi Cinema, Bypass Road,...      Agra       34   \n",
       "1             Main Market, Sadar Bazaar, Agra Cantt, Agra      Agra       34   \n",
       "2       62/1, Near Easy Day, West Shivaji Nagar, Goalp...      Agra       34   \n",
       "3       Near Anjana Cinema, Nehru Nagar, Civil Lines, ...      Agra       34   \n",
       "4             1C,3rd Floor, Fatehabad Road, Tajganj, Agra      Agra       34   \n",
       "...                                                   ...       ...      ...   \n",
       "211882  Ground Floor, 5 Ronak Plaza, Tulsidham Char Ra...  Vadodara       32   \n",
       "211925  3rd Floor, Shreem Shalini Mall, Opposite Conqu...  Vadodara       32   \n",
       "211926  Shop 11, Ground Floor, Atlantis K-10, Tower A,...  Vadodara       32   \n",
       "211940  Mahalaxmi Apartment, Opposite B O B, Karoli Ba...  Vadodara       32   \n",
       "211942  G-2, Vedant Platina, Near Cosmos, Akota, Vadodara  Vadodara       32   \n",
       "\n",
       "           locality   latitude  longitude  ... price_range  currency  \\\n",
       "0          Khandari  27.211450  78.002381  ...           2       Rs.   \n",
       "1        Agra Cantt  27.160569  78.011583  ...           2       Rs.   \n",
       "2          Shahganj  27.182938  77.979684  ...           1       Rs.   \n",
       "3       Civil Lines  27.205668  78.004799  ...           1       Rs.   \n",
       "4           Tajganj  27.157709  78.052421  ...           3       Rs.   \n",
       "...             ...        ...        ...  ...         ...       ...   \n",
       "211882    Manjalpur  22.270516  73.196408  ...           1       Rs.   \n",
       "211925     Alkapuri  22.310563  73.171163  ...           2       Rs.   \n",
       "211926     Alkapuri  22.317731  73.168107  ...           1       Rs.   \n",
       "211940   Karelibaug  22.322455  73.197203  ...           1       Rs.   \n",
       "211942        Akota  22.270027  73.143068  ...           2       Rs.   \n",
       "\n",
       "                                               highlights aggregate_rating  \\\n",
       "0       ['Lunch', 'Takeaway Available', 'Credit Card',...              4.4   \n",
       "1       ['Delivery', 'No Alcohol Available', 'Dinner',...              4.4   \n",
       "2       ['No Alcohol Available', 'Dinner', 'Takeaway A...              4.2   \n",
       "3       ['Takeaway Available', 'Credit Card', 'Lunch',...              4.3   \n",
       "4       ['Lunch', 'Serves Alcohol', 'Cash', 'Credit Ca...              4.9   \n",
       "...                                                   ...              ...   \n",
       "211882  ['Cash', 'Takeaway Available', 'Delivery', 'In...              2.9   \n",
       "211925  ['Dinner', 'Cash', 'Debit Card', 'Lunch', 'Tak...              4.0   \n",
       "211926  ['Dinner', 'Cash', 'Credit Card', 'Lunch', 'Ta...              3.9   \n",
       "211940  ['Dinner', 'Cash', 'Takeaway Available', 'Debi...              4.1   \n",
       "211942  ['Dinner', 'Delivery', 'Credit Card', 'Lunch',...              3.7   \n",
       "\n",
       "       rating_text  votes  photo_count opentable_support delivery  takeaway  \n",
       "0        Very Good    814          154               0.0       -1        -1  \n",
       "1        Very Good   1203          161               0.0       -1        -1  \n",
       "2        Very Good    801          107               0.0        1        -1  \n",
       "3        Very Good    693          157               0.0        1        -1  \n",
       "4        Excellent    470          291               0.0        1        -1  \n",
       "...            ...    ...          ...               ...      ...       ...  \n",
       "211882     Average      4            1               0.0        1        -1  \n",
       "211925   Very Good    111           38               0.0       -1        -1  \n",
       "211926        Good    207           14               0.0       -1        -1  \n",
       "211940   Very Good    187           40               0.0        1        -1  \n",
       "211942        Good    128           34               0.0        1        -1  \n",
       "\n",
       "[55568 rows x 26 columns]"
      ]
     },
     "execution_count": 6,
     "metadata": {},
     "output_type": "execute_result"
    }
   ],
   "source": [
    "df"
   ]
  },
  {
   "cell_type": "code",
   "execution_count": 7,
   "id": "12de6f25",
   "metadata": {},
   "outputs": [],
   "source": [
    "df.set_index('res_id',inplace=True)"
   ]
  },
  {
   "cell_type": "code",
   "execution_count": 8,
   "id": "927d00d6",
   "metadata": {},
   "outputs": [
    {
     "data": {
      "text/html": [
       "<div>\n",
       "<style scoped>\n",
       "    .dataframe tbody tr th:only-of-type {\n",
       "        vertical-align: middle;\n",
       "    }\n",
       "\n",
       "    .dataframe tbody tr th {\n",
       "        vertical-align: top;\n",
       "    }\n",
       "\n",
       "    .dataframe thead th {\n",
       "        text-align: right;\n",
       "    }\n",
       "</style>\n",
       "<table border=\"1\" class=\"dataframe\">\n",
       "  <thead>\n",
       "    <tr style=\"text-align: right;\">\n",
       "      <th></th>\n",
       "      <th>name</th>\n",
       "      <th>establishment</th>\n",
       "      <th>url</th>\n",
       "      <th>address</th>\n",
       "      <th>city</th>\n",
       "      <th>city_id</th>\n",
       "      <th>locality</th>\n",
       "      <th>latitude</th>\n",
       "      <th>longitude</th>\n",
       "      <th>zipcode</th>\n",
       "      <th>...</th>\n",
       "      <th>price_range</th>\n",
       "      <th>currency</th>\n",
       "      <th>highlights</th>\n",
       "      <th>aggregate_rating</th>\n",
       "      <th>rating_text</th>\n",
       "      <th>votes</th>\n",
       "      <th>photo_count</th>\n",
       "      <th>opentable_support</th>\n",
       "      <th>delivery</th>\n",
       "      <th>takeaway</th>\n",
       "    </tr>\n",
       "    <tr>\n",
       "      <th>res_id</th>\n",
       "      <th></th>\n",
       "      <th></th>\n",
       "      <th></th>\n",
       "      <th></th>\n",
       "      <th></th>\n",
       "      <th></th>\n",
       "      <th></th>\n",
       "      <th></th>\n",
       "      <th></th>\n",
       "      <th></th>\n",
       "      <th></th>\n",
       "      <th></th>\n",
       "      <th></th>\n",
       "      <th></th>\n",
       "      <th></th>\n",
       "      <th></th>\n",
       "      <th></th>\n",
       "      <th></th>\n",
       "      <th></th>\n",
       "      <th></th>\n",
       "      <th></th>\n",
       "    </tr>\n",
       "  </thead>\n",
       "  <tbody>\n",
       "    <tr>\n",
       "      <th>18882023</th>\n",
       "      <td>Underworld Cafeteria</td>\n",
       "      <td>['Café']</td>\n",
       "      <td>https://www.zomato.com/raipur/underworld-cafet...</td>\n",
       "      <td>Near medihealth  hospital, Ravi shankar shukla...</td>\n",
       "      <td>Raipur</td>\n",
       "      <td>11310</td>\n",
       "      <td>Amanaka</td>\n",
       "      <td>21.250932</td>\n",
       "      <td>81.596814</td>\n",
       "      <td>492001</td>\n",
       "      <td>...</td>\n",
       "      <td>1</td>\n",
       "      <td>Rs.</td>\n",
       "      <td>['Delivery', 'Cash', 'Takeaway Available', 'In...</td>\n",
       "      <td>3.5</td>\n",
       "      <td>Good</td>\n",
       "      <td>112</td>\n",
       "      <td>13</td>\n",
       "      <td>0.0</td>\n",
       "      <td>1</td>\n",
       "      <td>-1</td>\n",
       "    </tr>\n",
       "  </tbody>\n",
       "</table>\n",
       "<p>1 rows × 25 columns</p>\n",
       "</div>"
      ],
      "text/plain": [
       "                          name establishment  \\\n",
       "res_id                                         \n",
       "18882023  Underworld Cafeteria      ['Café']   \n",
       "\n",
       "                                                        url  \\\n",
       "res_id                                                        \n",
       "18882023  https://www.zomato.com/raipur/underworld-cafet...   \n",
       "\n",
       "                                                    address    city  city_id  \\\n",
       "res_id                                                                         \n",
       "18882023  Near medihealth  hospital, Ravi shankar shukla...  Raipur    11310   \n",
       "\n",
       "         locality   latitude  longitude zipcode  ...  price_range currency  \\\n",
       "res_id                                           ...                         \n",
       "18882023  Amanaka  21.250932  81.596814  492001  ...            1      Rs.   \n",
       "\n",
       "                                                 highlights aggregate_rating  \\\n",
       "res_id                                                                         \n",
       "18882023  ['Delivery', 'Cash', 'Takeaway Available', 'In...              3.5   \n",
       "\n",
       "          rating_text  votes photo_count opentable_support  delivery takeaway  \n",
       "res_id                                                                         \n",
       "18882023         Good    112          13               0.0         1       -1  \n",
       "\n",
       "[1 rows x 25 columns]"
      ]
     },
     "execution_count": 8,
     "metadata": {},
     "output_type": "execute_result"
    }
   ],
   "source": [
    "df.sample()"
   ]
  },
  {
   "cell_type": "code",
   "execution_count": 9,
   "id": "4deb0bcd",
   "metadata": {},
   "outputs": [
    {
     "name": "stdout",
     "output_type": "stream",
     "text": [
      "<class 'pandas.core.frame.DataFrame'>\n",
      "Index: 55568 entries, 3400299 to 3201138\n",
      "Data columns (total 25 columns):\n",
      " #   Column                Non-Null Count  Dtype  \n",
      "---  ------                --------------  -----  \n",
      " 0   name                  55568 non-null  object \n",
      " 1   establishment         55568 non-null  object \n",
      " 2   url                   55568 non-null  object \n",
      " 3   address               55550 non-null  object \n",
      " 4   city                  55568 non-null  object \n",
      " 5   city_id               55568 non-null  int64  \n",
      " 6   locality              55568 non-null  object \n",
      " 7   latitude              55568 non-null  float64\n",
      " 8   longitude             55568 non-null  float64\n",
      " 9   zipcode               10945 non-null  object \n",
      " 10  country_id            55568 non-null  int64  \n",
      " 11  locality_verbose      55568 non-null  object \n",
      " 12  cuisines              55098 non-null  object \n",
      " 13  timings               54565 non-null  object \n",
      " 14  average_cost_for_two  55568 non-null  int64  \n",
      " 15  price_range           55568 non-null  int64  \n",
      " 16  currency              55568 non-null  object \n",
      " 17  highlights            55568 non-null  object \n",
      " 18  aggregate_rating      55568 non-null  float64\n",
      " 19  rating_text           55568 non-null  object \n",
      " 20  votes                 55568 non-null  int64  \n",
      " 21  photo_count           55568 non-null  int64  \n",
      " 22  opentable_support     55556 non-null  float64\n",
      " 23  delivery              55568 non-null  int64  \n",
      " 24  takeaway              55568 non-null  int64  \n",
      "dtypes: float64(4), int64(8), object(13)\n",
      "memory usage: 11.0+ MB\n"
     ]
    }
   ],
   "source": [
    "df.info()"
   ]
  },
  {
   "cell_type": "code",
   "execution_count": 10,
   "id": "2f69b2eb",
   "metadata": {},
   "outputs": [
    {
     "data": {
      "text/plain": [
       "name                        0\n",
       "establishment               0\n",
       "url                         0\n",
       "address                    18\n",
       "city                        0\n",
       "city_id                     0\n",
       "locality                    0\n",
       "latitude                    0\n",
       "longitude                   0\n",
       "zipcode                 44623\n",
       "country_id                  0\n",
       "locality_verbose            0\n",
       "cuisines                  470\n",
       "timings                  1003\n",
       "average_cost_for_two        0\n",
       "price_range                 0\n",
       "currency                    0\n",
       "highlights                  0\n",
       "aggregate_rating            0\n",
       "rating_text                 0\n",
       "votes                       0\n",
       "photo_count                 0\n",
       "opentable_support          12\n",
       "delivery                    0\n",
       "takeaway                    0\n",
       "dtype: int64"
      ]
     },
     "execution_count": 10,
     "metadata": {},
     "output_type": "execute_result"
    }
   ],
   "source": [
    "df.isnull().sum()"
   ]
  },
  {
   "cell_type": "markdown",
   "id": "c80b2b69",
   "metadata": {},
   "source": [
    "### Statistical Analysis "
   ]
  },
  {
   "cell_type": "code",
   "execution_count": 11,
   "id": "92927475",
   "metadata": {},
   "outputs": [
    {
     "data": {
      "text/html": [
       "<div>\n",
       "<style scoped>\n",
       "    .dataframe tbody tr th:only-of-type {\n",
       "        vertical-align: middle;\n",
       "    }\n",
       "\n",
       "    .dataframe tbody tr th {\n",
       "        vertical-align: top;\n",
       "    }\n",
       "\n",
       "    .dataframe thead th {\n",
       "        text-align: right;\n",
       "    }\n",
       "</style>\n",
       "<table border=\"1\" class=\"dataframe\">\n",
       "  <thead>\n",
       "    <tr style=\"text-align: right;\">\n",
       "      <th></th>\n",
       "      <th>city_id</th>\n",
       "      <th>latitude</th>\n",
       "      <th>longitude</th>\n",
       "      <th>country_id</th>\n",
       "      <th>average_cost_for_two</th>\n",
       "      <th>price_range</th>\n",
       "      <th>aggregate_rating</th>\n",
       "      <th>votes</th>\n",
       "      <th>photo_count</th>\n",
       "      <th>opentable_support</th>\n",
       "      <th>delivery</th>\n",
       "      <th>takeaway</th>\n",
       "    </tr>\n",
       "  </thead>\n",
       "  <tbody>\n",
       "    <tr>\n",
       "      <th>count</th>\n",
       "      <td>55568.00</td>\n",
       "      <td>55568.00</td>\n",
       "      <td>55568.00</td>\n",
       "      <td>55568.0</td>\n",
       "      <td>55568.00</td>\n",
       "      <td>55568.00</td>\n",
       "      <td>55568.00</td>\n",
       "      <td>55568.00</td>\n",
       "      <td>55568.00</td>\n",
       "      <td>55556.0</td>\n",
       "      <td>55568.00</td>\n",
       "      <td>55568.0</td>\n",
       "    </tr>\n",
       "    <tr>\n",
       "      <th>mean</th>\n",
       "      <td>3409.50</td>\n",
       "      <td>21.45</td>\n",
       "      <td>76.50</td>\n",
       "      <td>1.0</td>\n",
       "      <td>528.21</td>\n",
       "      <td>1.71</td>\n",
       "      <td>2.96</td>\n",
       "      <td>223.33</td>\n",
       "      <td>160.97</td>\n",
       "      <td>0.0</td>\n",
       "      <td>-0.35</td>\n",
       "      <td>-1.0</td>\n",
       "    </tr>\n",
       "    <tr>\n",
       "      <th>std</th>\n",
       "      <td>5174.94</td>\n",
       "      <td>42.90</td>\n",
       "      <td>10.98</td>\n",
       "      <td>0.0</td>\n",
       "      <td>595.03</td>\n",
       "      <td>0.88</td>\n",
       "      <td>1.46</td>\n",
       "      <td>618.22</td>\n",
       "      <td>586.98</td>\n",
       "      <td>0.0</td>\n",
       "      <td>0.93</td>\n",
       "      <td>0.0</td>\n",
       "    </tr>\n",
       "    <tr>\n",
       "      <th>min</th>\n",
       "      <td>1.00</td>\n",
       "      <td>0.00</td>\n",
       "      <td>0.00</td>\n",
       "      <td>1.0</td>\n",
       "      <td>0.00</td>\n",
       "      <td>1.00</td>\n",
       "      <td>0.00</td>\n",
       "      <td>-18.00</td>\n",
       "      <td>0.00</td>\n",
       "      <td>0.0</td>\n",
       "      <td>-1.00</td>\n",
       "      <td>-1.0</td>\n",
       "    </tr>\n",
       "    <tr>\n",
       "      <th>25%</th>\n",
       "      <td>8.00</td>\n",
       "      <td>16.52</td>\n",
       "      <td>74.65</td>\n",
       "      <td>1.0</td>\n",
       "      <td>200.00</td>\n",
       "      <td>1.00</td>\n",
       "      <td>2.90</td>\n",
       "      <td>6.00</td>\n",
       "      <td>1.00</td>\n",
       "      <td>0.0</td>\n",
       "      <td>-1.00</td>\n",
       "      <td>-1.0</td>\n",
       "    </tr>\n",
       "    <tr>\n",
       "      <th>50%</th>\n",
       "      <td>26.00</td>\n",
       "      <td>22.47</td>\n",
       "      <td>77.11</td>\n",
       "      <td>1.0</td>\n",
       "      <td>350.00</td>\n",
       "      <td>1.00</td>\n",
       "      <td>3.50</td>\n",
       "      <td>35.00</td>\n",
       "      <td>10.00</td>\n",
       "      <td>0.0</td>\n",
       "      <td>-1.00</td>\n",
       "      <td>-1.0</td>\n",
       "    </tr>\n",
       "    <tr>\n",
       "      <th>75%</th>\n",
       "      <td>11294.00</td>\n",
       "      <td>26.75</td>\n",
       "      <td>79.83</td>\n",
       "      <td>1.0</td>\n",
       "      <td>600.00</td>\n",
       "      <td>2.00</td>\n",
       "      <td>3.90</td>\n",
       "      <td>175.00</td>\n",
       "      <td>69.00</td>\n",
       "      <td>0.0</td>\n",
       "      <td>1.00</td>\n",
       "      <td>-1.0</td>\n",
       "    </tr>\n",
       "    <tr>\n",
       "      <th>max</th>\n",
       "      <td>11354.00</td>\n",
       "      <td>10000.00</td>\n",
       "      <td>91.83</td>\n",
       "      <td>1.0</td>\n",
       "      <td>30000.00</td>\n",
       "      <td>4.00</td>\n",
       "      <td>4.90</td>\n",
       "      <td>42539.00</td>\n",
       "      <td>17702.00</td>\n",
       "      <td>0.0</td>\n",
       "      <td>1.00</td>\n",
       "      <td>-1.0</td>\n",
       "    </tr>\n",
       "  </tbody>\n",
       "</table>\n",
       "</div>"
      ],
      "text/plain": [
       "        city_id  latitude  longitude  country_id  average_cost_for_two  \\\n",
       "count  55568.00  55568.00   55568.00     55568.0              55568.00   \n",
       "mean    3409.50     21.45      76.50         1.0                528.21   \n",
       "std     5174.94     42.90      10.98         0.0                595.03   \n",
       "min        1.00      0.00       0.00         1.0                  0.00   \n",
       "25%        8.00     16.52      74.65         1.0                200.00   \n",
       "50%       26.00     22.47      77.11         1.0                350.00   \n",
       "75%    11294.00     26.75      79.83         1.0                600.00   \n",
       "max    11354.00  10000.00      91.83         1.0              30000.00   \n",
       "\n",
       "       price_range  aggregate_rating     votes  photo_count  \\\n",
       "count     55568.00          55568.00  55568.00     55568.00   \n",
       "mean          1.71              2.96    223.33       160.97   \n",
       "std           0.88              1.46    618.22       586.98   \n",
       "min           1.00              0.00    -18.00         0.00   \n",
       "25%           1.00              2.90      6.00         1.00   \n",
       "50%           1.00              3.50     35.00        10.00   \n",
       "75%           2.00              3.90    175.00        69.00   \n",
       "max           4.00              4.90  42539.00     17702.00   \n",
       "\n",
       "       opentable_support  delivery  takeaway  \n",
       "count            55556.0  55568.00   55568.0  \n",
       "mean                 0.0     -0.35      -1.0  \n",
       "std                  0.0      0.93       0.0  \n",
       "min                  0.0     -1.00      -1.0  \n",
       "25%                  0.0     -1.00      -1.0  \n",
       "50%                  0.0     -1.00      -1.0  \n",
       "75%                  0.0      1.00      -1.0  \n",
       "max                  0.0      1.00      -1.0  "
      ]
     },
     "execution_count": 11,
     "metadata": {},
     "output_type": "execute_result"
    }
   ],
   "source": [
    "df.describe().round(2)"
   ]
  },
  {
   "cell_type": "code",
   "execution_count": 12,
   "id": "813b600e",
   "metadata": {},
   "outputs": [
    {
     "data": {
      "image/png": "[encoded data removed]",
      "text/plain": [
       "<Figure size 432x288 with 2 Axes>"
      ]
     },
     "metadata": {
      "needs_background": "light"
     },
     "output_type": "display_data"
    }
   ],
   "source": [
    "sns.heatmap(df.isna())\n",
    "plt.show()"
   ]
  },
  {
   "cell_type": "code",
   "execution_count": 13,
   "id": "a92ab089",
   "metadata": {},
   "outputs": [
    {
     "data": {
      "text/plain": [
       "array([\"['Quick Bites']\", \"['Casual Dining']\", \"['Bakery']\", \"['Café']\",\n",
       "       \"['Dhaba']\", \"['Bhojanalya']\", \"['Bar']\", \"['Sweet Shop']\",\n",
       "       \"['Fine Dining']\", \"['Food Truck']\", \"['Dessert Parlour']\",\n",
       "       \"['Lounge']\", \"['Pub']\", \"['Beverage Shop']\", \"['Kiosk']\",\n",
       "       \"['Paan Shop']\", \"['Confectionery']\", '[]', \"['Shack']\",\n",
       "       \"['Club']\", \"['Food Court']\", \"['Mess']\", \"['Butcher Shop']\",\n",
       "       \"['Microbrewery']\", \"['Cocktail Bar']\", \"['Pop up']\",\n",
       "       \"['Irani Cafe']\"], dtype=object)"
      ]
     },
     "execution_count": 13,
     "metadata": {},
     "output_type": "execute_result"
    }
   ],
   "source": [
    "df['establishment'].unique()"
   ]
  },
  {
   "cell_type": "code",
   "execution_count": 14,
   "id": "d67dac86",
   "metadata": {},
   "outputs": [
    {
     "data": {
      "text/plain": [
       "27"
      ]
     },
     "execution_count": 14,
     "metadata": {},
     "output_type": "execute_result"
    }
   ],
   "source": [
    "df['establishment'].nunique()"
   ]
  },
  {
   "cell_type": "markdown",
   "id": "0cee609d",
   "metadata": {},
   "source": [
    "### Cleaning Establishment Names"
   ]
  },
  {
   "cell_type": "code",
   "execution_count": 15,
   "id": "031dba39",
   "metadata": {},
   "outputs": [],
   "source": [
    "df['establishment']=df['establishment'].apply(lambda x:x[2:-2])"
   ]
  },
  {
   "cell_type": "code",
   "execution_count": 16,
   "id": "098feb6d",
   "metadata": {},
   "outputs": [],
   "source": [
    "df['establishment']=df['establishment'].apply(lambda x:np.where(x==\"\",\"Other Establishments\",x))"
   ]
  },
  {
   "cell_type": "code",
   "execution_count": 17,
   "id": "71a8eb5e",
   "metadata": {},
   "outputs": [
    {
     "data": {
      "text/plain": [
       "array(['Quick Bites', 'Casual Dining', 'Bakery', 'Café', 'Dhaba',\n",
       "       'Bhojanalya', 'Bar', 'Sweet Shop', 'Fine Dining', 'Food Truck',\n",
       "       'Dessert Parlour', 'Lounge', 'Pub', 'Beverage Shop', 'Kiosk',\n",
       "       'Paan Shop', 'Confectionery', 'Other Establishments', 'Shack',\n",
       "       'Club', 'Food Court', 'Mess', 'Butcher Shop', 'Microbrewery',\n",
       "       'Cocktail Bar', 'Pop up', 'Irani Cafe'], dtype=object)"
      ]
     },
     "execution_count": 17,
     "metadata": {},
     "output_type": "execute_result"
    }
   ],
   "source": [
    "df['establishment'].unique()"
   ]
  },
  {
   "cell_type": "code",
   "execution_count": 18,
   "id": "e1c133f8",
   "metadata": {},
   "outputs": [],
   "source": [
    "df['zipcode'].fillna('Others',inplace = True)"
   ]
  },
  {
   "cell_type": "code",
   "execution_count": 19,
   "id": "b3b47032",
   "metadata": {},
   "outputs": [
    {
     "data": {
      "text/plain": [
       "0"
      ]
     },
     "execution_count": 19,
     "metadata": {},
     "output_type": "execute_result"
    }
   ],
   "source": [
    "df['zipcode'].isna().sum()"
   ]
  },
  {
   "cell_type": "code",
   "execution_count": 20,
   "id": "0970b792",
   "metadata": {},
   "outputs": [
    {
     "data": {
      "text/plain": [
       "7740"
      ]
     },
     "execution_count": 20,
     "metadata": {},
     "output_type": "execute_result"
    }
   ],
   "source": [
    "df['timings'].nunique()"
   ]
  },
  {
   "cell_type": "code",
   "execution_count": 21,
   "id": "588ea0bf",
   "metadata": {},
   "outputs": [
    {
     "data": {
      "text/plain": [
       "res_id\n",
       "3400299     Rs.\n",
       "3400005     Rs.\n",
       "3401013     Rs.\n",
       "3400290     Rs.\n",
       "3401744     Rs.\n",
       "           ... \n",
       "19142822    Rs.\n",
       "18984164    Rs.\n",
       "18019952    Rs.\n",
       "3200996     Rs.\n",
       "3201138     Rs.\n",
       "Name: currency, Length: 55568, dtype: object"
      ]
     },
     "execution_count": 21,
     "metadata": {},
     "output_type": "execute_result"
    }
   ],
   "source": [
    "df['currency']"
   ]
  },
  {
   "cell_type": "markdown",
   "id": "5c13b9c1",
   "metadata": {},
   "source": [
    "# Exploratory Data Analysis (EDA)"
   ]
  },
  {
   "cell_type": "markdown",
   "id": "ed40b3ef",
   "metadata": {},
   "source": [
    "### Top and Bottom Cities with Restaurants"
   ]
  },
  {
   "cell_type": "code",
   "execution_count": 22,
   "id": "caa96925",
   "metadata": {},
   "outputs": [
    {
     "data": {
      "text/html": [
       "<div>\n",
       "<style scoped>\n",
       "    .dataframe tbody tr th:only-of-type {\n",
       "        vertical-align: middle;\n",
       "    }\n",
       "\n",
       "    .dataframe tbody tr th {\n",
       "        vertical-align: top;\n",
       "    }\n",
       "\n",
       "    .dataframe thead th {\n",
       "        text-align: right;\n",
       "    }\n",
       "</style>\n",
       "<table border=\"1\" class=\"dataframe\">\n",
       "  <thead>\n",
       "    <tr style=\"text-align: right;\">\n",
       "      <th></th>\n",
       "      <th>city</th>\n",
       "      <th>count</th>\n",
       "    </tr>\n",
       "  </thead>\n",
       "  <tbody>\n",
       "    <tr>\n",
       "      <th>0</th>\n",
       "      <td>Bangalore</td>\n",
       "      <td>2247</td>\n",
       "    </tr>\n",
       "    <tr>\n",
       "      <th>1</th>\n",
       "      <td>Mumbai</td>\n",
       "      <td>2022</td>\n",
       "    </tr>\n",
       "    <tr>\n",
       "      <th>2</th>\n",
       "      <td>Pune</td>\n",
       "      <td>1843</td>\n",
       "    </tr>\n",
       "    <tr>\n",
       "      <th>3</th>\n",
       "      <td>Chennai</td>\n",
       "      <td>1827</td>\n",
       "    </tr>\n",
       "    <tr>\n",
       "      <th>4</th>\n",
       "      <td>New Delhi</td>\n",
       "      <td>1704</td>\n",
       "    </tr>\n",
       "    <tr>\n",
       "      <th>5</th>\n",
       "      <td>Jaipur</td>\n",
       "      <td>1395</td>\n",
       "    </tr>\n",
       "    <tr>\n",
       "      <th>6</th>\n",
       "      <td>Kolkata</td>\n",
       "      <td>1361</td>\n",
       "    </tr>\n",
       "    <tr>\n",
       "      <th>7</th>\n",
       "      <td>Ahmedabad</td>\n",
       "      <td>1247</td>\n",
       "    </tr>\n",
       "    <tr>\n",
       "      <th>8</th>\n",
       "      <td>Goa</td>\n",
       "      <td>1150</td>\n",
       "    </tr>\n",
       "    <tr>\n",
       "      <th>9</th>\n",
       "      <td>Lucknow</td>\n",
       "      <td>1135</td>\n",
       "    </tr>\n",
       "    <tr>\n",
       "      <th>10</th>\n",
       "      <td>Nagpur</td>\n",
       "      <td>1039</td>\n",
       "    </tr>\n",
       "    <tr>\n",
       "      <th>11</th>\n",
       "      <td>Indore</td>\n",
       "      <td>1026</td>\n",
       "    </tr>\n",
       "    <tr>\n",
       "      <th>12</th>\n",
       "      <td>Coimbatore</td>\n",
       "      <td>976</td>\n",
       "    </tr>\n",
       "    <tr>\n",
       "      <th>13</th>\n",
       "      <td>Surat</td>\n",
       "      <td>970</td>\n",
       "    </tr>\n",
       "    <tr>\n",
       "      <th>14</th>\n",
       "      <td>Vadodara</td>\n",
       "      <td>963</td>\n",
       "    </tr>\n",
       "    <tr>\n",
       "      <th>15</th>\n",
       "      <td>Ludhiana</td>\n",
       "      <td>948</td>\n",
       "    </tr>\n",
       "    <tr>\n",
       "      <th>16</th>\n",
       "      <td>Bhopal</td>\n",
       "      <td>906</td>\n",
       "    </tr>\n",
       "    <tr>\n",
       "      <th>17</th>\n",
       "      <td>Kochi</td>\n",
       "      <td>897</td>\n",
       "    </tr>\n",
       "    <tr>\n",
       "      <th>18</th>\n",
       "      <td>Agra</td>\n",
       "      <td>833</td>\n",
       "    </tr>\n",
       "    <tr>\n",
       "      <th>19</th>\n",
       "      <td>Hyderabad</td>\n",
       "      <td>822</td>\n",
       "    </tr>\n",
       "  </tbody>\n",
       "</table>\n",
       "</div>"
      ],
      "text/plain": [
       "          city  count\n",
       "0    Bangalore   2247\n",
       "1       Mumbai   2022\n",
       "2         Pune   1843\n",
       "3      Chennai   1827\n",
       "4    New Delhi   1704\n",
       "5       Jaipur   1395\n",
       "6      Kolkata   1361\n",
       "7    Ahmedabad   1247\n",
       "8          Goa   1150\n",
       "9      Lucknow   1135\n",
       "10      Nagpur   1039\n",
       "11      Indore   1026\n",
       "12  Coimbatore    976\n",
       "13       Surat    970\n",
       "14    Vadodara    963\n",
       "15    Ludhiana    948\n",
       "16      Bhopal    906\n",
       "17       Kochi    897\n",
       "18        Agra    833\n",
       "19   Hyderabad    822"
      ]
     },
     "execution_count": 22,
     "metadata": {},
     "output_type": "execute_result"
    }
   ],
   "source": [
    "# Top 20 Cities\n",
    "top_20_Cities=df['city'].value_counts().head(20).reset_index()\n",
    "top_20_Cities"
   ]
  },
  {
   "cell_type": "code",
   "execution_count": 23,
   "id": "09c674a3",
   "metadata": {},
   "outputs": [
    {
     "data": {
      "image/png": "[encoded data removed]",
      "text/plain": [
       "<Figure size 432x288 with 1 Axes>"
      ]
     },
     "metadata": {
      "needs_background": "light"
     },
     "output_type": "display_data"
    }
   ],
   "source": [
    "sns.barplot(y='city',x='count',data=top_20_Cities,palette='viridis')\n",
    "plt.title('Restaurants in City (Top 20)',fontsize=15,fontweight='bold')\n",
    "plt.xlabel('No.of Restaurants',fontsize=15,fontweight='bold')\n",
    "plt.ylabel('Cities',fontsize=15,fontweight='bold')\n",
    "plt.show()"
   ]
  },
  {
   "cell_type": "markdown",
   "id": "7f736522",
   "metadata": {},
   "source": [
    "##### The bar graph showing the top 20 cities ranked by number of Restaurants ,here are some insights:\n",
    "\n",
    " * Bangalore and Mumbai have the highest number of restaurants among the cities listed.\n",
    " * There is a noticeable drop after Bangalore and Mumbai in the number of restaurants for the next group of cities like Pune, Chennai, and New Delhi,Jabalpur\n",
    " * The cities towards the bottom of the graph like Kochi, Agra, and Hyderabad have relatively fewer restaurants compared to the top cities.\n",
    " * As you can see that metro cities have more number of restaurants than others with South India dominating the Top 4 (Bangalore, Pune , Mumbai, Chennai)"
   ]
  },
  {
   "cell_type": "code",
   "execution_count": 24,
   "id": "8baac382",
   "metadata": {},
   "outputs": [
    {
     "data": {
      "text/html": [
       "<div>\n",
       "<style scoped>\n",
       "    .dataframe tbody tr th:only-of-type {\n",
       "        vertical-align: middle;\n",
       "    }\n",
       "\n",
       "    .dataframe tbody tr th {\n",
       "        vertical-align: top;\n",
       "    }\n",
       "\n",
       "    .dataframe thead th {\n",
       "        text-align: right;\n",
       "    }\n",
       "</style>\n",
       "<table border=\"1\" class=\"dataframe\">\n",
       "  <thead>\n",
       "    <tr style=\"text-align: right;\">\n",
       "      <th></th>\n",
       "      <th>city</th>\n",
       "      <th>count</th>\n",
       "    </tr>\n",
       "  </thead>\n",
       "  <tbody>\n",
       "    <tr>\n",
       "      <th>0</th>\n",
       "      <td>Gandhinagar</td>\n",
       "      <td>96</td>\n",
       "    </tr>\n",
       "    <tr>\n",
       "      <th>1</th>\n",
       "      <td>Secunderabad</td>\n",
       "      <td>90</td>\n",
       "    </tr>\n",
       "    <tr>\n",
       "      <th>2</th>\n",
       "      <td>Ghaziabad</td>\n",
       "      <td>90</td>\n",
       "    </tr>\n",
       "    <tr>\n",
       "      <th>3</th>\n",
       "      <td>Nasik</td>\n",
       "      <td>83</td>\n",
       "    </tr>\n",
       "    <tr>\n",
       "      <th>4</th>\n",
       "      <td>Faridabad</td>\n",
       "      <td>79</td>\n",
       "    </tr>\n",
       "    <tr>\n",
       "      <th>5</th>\n",
       "      <td>Udupi</td>\n",
       "      <td>60</td>\n",
       "    </tr>\n",
       "    <tr>\n",
       "      <th>6</th>\n",
       "      <td>Howrah</td>\n",
       "      <td>50</td>\n",
       "    </tr>\n",
       "    <tr>\n",
       "      <th>7</th>\n",
       "      <td>Neemrana</td>\n",
       "      <td>26</td>\n",
       "    </tr>\n",
       "    <tr>\n",
       "      <th>8</th>\n",
       "      <td>Greater Noida</td>\n",
       "      <td>21</td>\n",
       "    </tr>\n",
       "    <tr>\n",
       "      <th>9</th>\n",
       "      <td>Nayagaon</td>\n",
       "      <td>15</td>\n",
       "    </tr>\n",
       "  </tbody>\n",
       "</table>\n",
       "</div>"
      ],
      "text/plain": [
       "            city  count\n",
       "0    Gandhinagar     96\n",
       "1   Secunderabad     90\n",
       "2      Ghaziabad     90\n",
       "3          Nasik     83\n",
       "4      Faridabad     79\n",
       "5          Udupi     60\n",
       "6         Howrah     50\n",
       "7       Neemrana     26\n",
       "8  Greater Noida     21\n",
       "9       Nayagaon     15"
      ]
     },
     "execution_count": 24,
     "metadata": {},
     "output_type": "execute_result"
    }
   ],
   "source": [
    "# Bottom 10 Cities\n",
    "bottom_10_Cities=df['city'].value_counts().tail(10).reset_index()\n",
    "bottom_10_Cities "
   ]
  },
  {
   "cell_type": "code",
   "execution_count": 25,
   "id": "d41123f9",
   "metadata": {},
   "outputs": [
    {
     "data": {
      "image/png": "[encoded data removed]",
      "text/plain": [
       "<Figure size 432x288 with 1 Axes>"
      ]
     },
     "metadata": {
      "needs_background": "light"
     },
     "output_type": "display_data"
    }
   ],
   "source": [
    "sns.barplot(y='city',x='count',data=bottom_10_Cities,palette='crest')\n",
    "plt.title('Restaurants in City (Bottom 10)',fontsize=15,fontweight='bold')\n",
    "plt.xlabel('No.of Restaurants',fontsize=15,fontweight='bold')\n",
    "plt.ylabel('Cities',fontsize=15,fontweight='bold')\n",
    "plt.show()"
   ]
  },
  {
   "cell_type": "markdown",
   "id": "61fdad3f",
   "metadata": {},
   "source": [
    "* There's a significant disparity between cities, from around 10 restaurants in Nayagaon to nearly 100 in Gandhinagar. This large variation suggests that different factors strongly influence restaurant presence across cities.\n",
    "* Gandhinagar and Secunderabad stand out with over 90 restaurants each, far exceeding other cities. This could indicate favorable conditions for the restaurant industry in these locations, such as higher population, economic prosperity, or tourism.\n",
    "* The cities fall into roughly three tiers - high (80-100 restaurants), medium (60-80), and low (0-60). This clustering might reflect broader patterns related to urbanization, economic development, or regional differences.\n",
    "* Generally, larger or more well-known cities have more restaurants, while smaller or less prominent cities have fewer. This trend likely reflects population differences and varying levels of urban development."
   ]
  },
  {
   "cell_type": "markdown",
   "id": "bc1f7911",
   "metadata": {},
   "source": [
    "### Top 20 Restaurant Chains in India by Number of Outlets\n"
   ]
  },
  {
   "cell_type": "code",
   "execution_count": 26,
   "id": "c995517e",
   "metadata": {},
   "outputs": [
    {
     "data": {
      "text/html": [
       "<div>\n",
       "<style scoped>\n",
       "    .dataframe tbody tr th:only-of-type {\n",
       "        vertical-align: middle;\n",
       "    }\n",
       "\n",
       "    .dataframe tbody tr th {\n",
       "        vertical-align: top;\n",
       "    }\n",
       "\n",
       "    .dataframe thead th {\n",
       "        text-align: right;\n",
       "    }\n",
       "</style>\n",
       "<table border=\"1\" class=\"dataframe\">\n",
       "  <thead>\n",
       "    <tr style=\"text-align: right;\">\n",
       "      <th></th>\n",
       "      <th>name</th>\n",
       "      <th>count</th>\n",
       "    </tr>\n",
       "  </thead>\n",
       "  <tbody>\n",
       "    <tr>\n",
       "      <th>0</th>\n",
       "      <td>Domino's Pizza</td>\n",
       "      <td>399</td>\n",
       "    </tr>\n",
       "    <tr>\n",
       "      <th>1</th>\n",
       "      <td>Cafe Coffee Day</td>\n",
       "      <td>315</td>\n",
       "    </tr>\n",
       "    <tr>\n",
       "      <th>2</th>\n",
       "      <td>KFC</td>\n",
       "      <td>204</td>\n",
       "    </tr>\n",
       "    <tr>\n",
       "      <th>3</th>\n",
       "      <td>Baskin Robbins</td>\n",
       "      <td>202</td>\n",
       "    </tr>\n",
       "    <tr>\n",
       "      <th>4</th>\n",
       "      <td>Keventers</td>\n",
       "      <td>189</td>\n",
       "    </tr>\n",
       "    <tr>\n",
       "      <th>5</th>\n",
       "      <td>Subway</td>\n",
       "      <td>178</td>\n",
       "    </tr>\n",
       "    <tr>\n",
       "      <th>6</th>\n",
       "      <td>McDonald's</td>\n",
       "      <td>130</td>\n",
       "    </tr>\n",
       "    <tr>\n",
       "      <th>7</th>\n",
       "      <td>Pizza Hut</td>\n",
       "      <td>125</td>\n",
       "    </tr>\n",
       "    <tr>\n",
       "      <th>8</th>\n",
       "      <td>Barbeque Nation</td>\n",
       "      <td>112</td>\n",
       "    </tr>\n",
       "    <tr>\n",
       "      <th>9</th>\n",
       "      <td>Burger King</td>\n",
       "      <td>110</td>\n",
       "    </tr>\n",
       "    <tr>\n",
       "      <th>10</th>\n",
       "      <td>Monginis</td>\n",
       "      <td>106</td>\n",
       "    </tr>\n",
       "    <tr>\n",
       "      <th>11</th>\n",
       "      <td>The Chocolate Room</td>\n",
       "      <td>72</td>\n",
       "    </tr>\n",
       "    <tr>\n",
       "      <th>12</th>\n",
       "      <td>Giani's</td>\n",
       "      <td>71</td>\n",
       "    </tr>\n",
       "    <tr>\n",
       "      <th>13</th>\n",
       "      <td>The Belgian Waffle Co.</td>\n",
       "      <td>69</td>\n",
       "    </tr>\n",
       "    <tr>\n",
       "      <th>14</th>\n",
       "      <td>Frozen Bottle</td>\n",
       "      <td>68</td>\n",
       "    </tr>\n",
       "    <tr>\n",
       "      <th>15</th>\n",
       "      <td>ibaco</td>\n",
       "      <td>65</td>\n",
       "    </tr>\n",
       "    <tr>\n",
       "      <th>16</th>\n",
       "      <td>Lassi Shop</td>\n",
       "      <td>60</td>\n",
       "    </tr>\n",
       "    <tr>\n",
       "      <th>17</th>\n",
       "      <td>Behrouz Biryani</td>\n",
       "      <td>59</td>\n",
       "    </tr>\n",
       "    <tr>\n",
       "      <th>18</th>\n",
       "      <td>Kanti Sweets</td>\n",
       "      <td>59</td>\n",
       "    </tr>\n",
       "    <tr>\n",
       "      <th>19</th>\n",
       "      <td>Green Chick Chop</td>\n",
       "      <td>56</td>\n",
       "    </tr>\n",
       "  </tbody>\n",
       "</table>\n",
       "</div>"
      ],
      "text/plain": [
       "                      name  count\n",
       "0           Domino's Pizza    399\n",
       "1          Cafe Coffee Day    315\n",
       "2                      KFC    204\n",
       "3           Baskin Robbins    202\n",
       "4                Keventers    189\n",
       "5                   Subway    178\n",
       "6               McDonald's    130\n",
       "7                Pizza Hut    125\n",
       "8          Barbeque Nation    112\n",
       "9              Burger King    110\n",
       "10                Monginis    106\n",
       "11      The Chocolate Room     72\n",
       "12                 Giani's     71\n",
       "13  The Belgian Waffle Co.     69\n",
       "14           Frozen Bottle     68\n",
       "15                   ibaco     65\n",
       "16              Lassi Shop     60\n",
       "17         Behrouz Biryani     59\n",
       "18            Kanti Sweets     59\n",
       "19        Green Chick Chop     56"
      ]
     },
     "execution_count": 26,
     "metadata": {},
     "output_type": "execute_result"
    }
   ],
   "source": [
    "top_20_name=df['name'].value_counts().head(20).reset_index()\n",
    "top_20_name"
   ]
  },
  {
   "cell_type": "code",
   "execution_count": 27,
   "id": "3709c7bb",
   "metadata": {
    "scrolled": true
   },
   "outputs": [
    {
     "data": {
      "image/png": "[encoded data removed]",
      "text/plain": [
       "<Figure size 576x360 with 1 Axes>"
      ]
     },
     "metadata": {
      "needs_background": "light"
     },
     "output_type": "display_data"
    }
   ],
   "source": [
    "plt.figure(figsize=(8,5))\n",
    "sns.barplot(y='name',x='count',data=top_20_name,palette='cool')\n",
    "plt.title('Top 20 Restaurant Chain in India (by No.of Outlets)',fontsize=15,fontweight='bold')\n",
    "plt.xlabel('No.of Outlets',fontsize=15,fontweight='bold')\n",
    "plt.ylabel('Restaurant Name',fontsize=15,fontweight='bold')\n",
    "plt.show()"
   ]
  },
  {
   "cell_type": "markdown",
   "id": "3c11be0e",
   "metadata": {},
   "source": [
    "* Domino's Pizza is the clear leader with 399 outlets, followed closely by Cafe Coffee Day with 315 outlets. This suggests a strong consumer preference for pizza and coffee chains in India.\n",
    "* The top 5 chains are dominated by international fast food brands (Domino's, KFC, McDonald's) and cafe chains (Cafe Coffee Day, Baskin Robbins). This indicates a significant market for quick-service restaurants in India.\n",
    "* The list includes a mix of cuisines and concepts - from pizza and burgers to ice cream, coffee, and Indian specialties like biryani and lassi. This diversity reflects the varied food preferences of Indian consumers.\n",
    "* While many top chains are international brands, there's a strong presence of Indian brands like Cafe Coffee Day, Keventers, and Barbeque Nation. This suggests a competitive market where local chains can thrive alongside global giants.\n",
    "* There's a significant drop in outlet numbers after the top few chains. For example, Domino's has nearly 4 times as many outlets as the 10th-ranked chain (Monginis). This indicates a highly concentrated market at the top end."
   ]
  },
  {
   "cell_type": "markdown",
   "id": "095cd55c",
   "metadata": {},
   "source": [
    "### Top 10 Restaurants by establishment type"
   ]
  },
  {
   "cell_type": "code",
   "execution_count": 28,
   "id": "3a629a57",
   "metadata": {
    "scrolled": false
   },
   "outputs": [
    {
     "data": {
      "text/html": [
       "<div>\n",
       "<style scoped>\n",
       "    .dataframe tbody tr th:only-of-type {\n",
       "        vertical-align: middle;\n",
       "    }\n",
       "\n",
       "    .dataframe tbody tr th {\n",
       "        vertical-align: top;\n",
       "    }\n",
       "\n",
       "    .dataframe thead th {\n",
       "        text-align: right;\n",
       "    }\n",
       "</style>\n",
       "<table border=\"1\" class=\"dataframe\">\n",
       "  <thead>\n",
       "    <tr style=\"text-align: right;\">\n",
       "      <th></th>\n",
       "      <th>establishment</th>\n",
       "      <th>count</th>\n",
       "    </tr>\n",
       "  </thead>\n",
       "  <tbody>\n",
       "    <tr>\n",
       "      <th>0</th>\n",
       "      <td>Quick Bites</td>\n",
       "      <td>14032</td>\n",
       "    </tr>\n",
       "    <tr>\n",
       "      <th>1</th>\n",
       "      <td>Casual Dining</td>\n",
       "      <td>12270</td>\n",
       "    </tr>\n",
       "    <tr>\n",
       "      <th>2</th>\n",
       "      <td>Café</td>\n",
       "      <td>4123</td>\n",
       "    </tr>\n",
       "    <tr>\n",
       "      <th>3</th>\n",
       "      <td>Bakery</td>\n",
       "      <td>3741</td>\n",
       "    </tr>\n",
       "    <tr>\n",
       "      <th>4</th>\n",
       "      <td>Dessert Parlour</td>\n",
       "      <td>3675</td>\n",
       "    </tr>\n",
       "    <tr>\n",
       "      <th>5</th>\n",
       "      <td>Sweet Shop</td>\n",
       "      <td>2615</td>\n",
       "    </tr>\n",
       "    <tr>\n",
       "      <th>6</th>\n",
       "      <td>Beverage Shop</td>\n",
       "      <td>2440</td>\n",
       "    </tr>\n",
       "    <tr>\n",
       "      <th>7</th>\n",
       "      <td>Other Establishments</td>\n",
       "      <td>1830</td>\n",
       "    </tr>\n",
       "    <tr>\n",
       "      <th>8</th>\n",
       "      <td>Fine Dining</td>\n",
       "      <td>1535</td>\n",
       "    </tr>\n",
       "    <tr>\n",
       "      <th>9</th>\n",
       "      <td>Food Court</td>\n",
       "      <td>1494</td>\n",
       "    </tr>\n",
       "  </tbody>\n",
       "</table>\n",
       "</div>"
      ],
      "text/plain": [
       "          establishment  count\n",
       "0           Quick Bites  14032\n",
       "1         Casual Dining  12270\n",
       "2                  Café   4123\n",
       "3                Bakery   3741\n",
       "4       Dessert Parlour   3675\n",
       "5            Sweet Shop   2615\n",
       "6         Beverage Shop   2440\n",
       "7  Other Establishments   1830\n",
       "8           Fine Dining   1535\n",
       "9            Food Court   1494"
      ]
     },
     "execution_count": 28,
     "metadata": {},
     "output_type": "execute_result"
    }
   ],
   "source": [
    "by_establishment=df['establishment'].value_counts().head(10).reset_index()\n",
    "by_establishment"
   ]
  },
  {
   "cell_type": "code",
   "execution_count": 29,
   "id": "f5e28ef8",
   "metadata": {
    "scrolled": true
   },
   "outputs": [
    {
     "data": {
      "image/png": "[encoded data removed]",
      "text/plain": [
       "<Figure size 432x288 with 1 Axes>"
      ]
     },
     "metadata": {
      "needs_background": "light"
     },
     "output_type": "display_data"
    }
   ],
   "source": [
    "sns.barplot(y='establishment',x='count',data=by_establishment,palette='viridis')\n",
    "plt.title('Top 10 Restaurants by establishment type',fontsize=15,fontweight='bold',color='black')\n",
    "plt.xlabel('No.of Restaurants ',fontsize=15,fontweight='bold')\n",
    "plt.ylabel('Establishment type',fontsize=15,fontweight='bold')\n",
    "plt.show()"
   ]
  },
  {
   "cell_type": "markdown",
   "id": "2b64b377",
   "metadata": {},
   "source": [
    "* Quick Bites and Casual Dining dominate with the highest number of outlets, reflecting consumer preference for fast and casual meals.\n",
    "* Cafés and Bakeries are also popular, driven by youth culture and social hangout trends.\n",
    "* Dessert Parlours and Sweet Shops highlight a growing demand for niche sweet offerings.\n",
    "* Fine Dining is less common, indicating it caters to a smaller, premium market segment."
   ]
  },
  {
   "cell_type": "markdown",
   "id": "988755dc",
   "metadata": {},
   "source": [
    "### Top 10 Restaurants by cuisines type"
   ]
  },
  {
   "cell_type": "code",
   "execution_count": 30,
   "id": "662bbb3f",
   "metadata": {},
   "outputs": [
    {
     "data": {
      "text/html": [
       "<div>\n",
       "<style scoped>\n",
       "    .dataframe tbody tr th:only-of-type {\n",
       "        vertical-align: middle;\n",
       "    }\n",
       "\n",
       "    .dataframe tbody tr th {\n",
       "        vertical-align: top;\n",
       "    }\n",
       "\n",
       "    .dataframe thead th {\n",
       "        text-align: right;\n",
       "    }\n",
       "</style>\n",
       "<table border=\"1\" class=\"dataframe\">\n",
       "  <thead>\n",
       "    <tr style=\"text-align: right;\">\n",
       "      <th></th>\n",
       "      <th>cuisines</th>\n",
       "      <th>count</th>\n",
       "    </tr>\n",
       "  </thead>\n",
       "  <tbody>\n",
       "    <tr>\n",
       "      <th>0</th>\n",
       "      <td>North Indian</td>\n",
       "      <td>4295</td>\n",
       "    </tr>\n",
       "    <tr>\n",
       "      <th>1</th>\n",
       "      <td>Fast Food</td>\n",
       "      <td>2025</td>\n",
       "    </tr>\n",
       "    <tr>\n",
       "      <th>2</th>\n",
       "      <td>North Indian, Chinese</td>\n",
       "      <td>1636</td>\n",
       "    </tr>\n",
       "    <tr>\n",
       "      <th>3</th>\n",
       "      <td>Bakery</td>\n",
       "      <td>1585</td>\n",
       "    </tr>\n",
       "    <tr>\n",
       "      <th>4</th>\n",
       "      <td>South Indian</td>\n",
       "      <td>1489</td>\n",
       "    </tr>\n",
       "    <tr>\n",
       "      <th>5</th>\n",
       "      <td>Street Food</td>\n",
       "      <td>1187</td>\n",
       "    </tr>\n",
       "    <tr>\n",
       "      <th>6</th>\n",
       "      <td>Cafe</td>\n",
       "      <td>1098</td>\n",
       "    </tr>\n",
       "    <tr>\n",
       "      <th>7</th>\n",
       "      <td>Mithai</td>\n",
       "      <td>1020</td>\n",
       "    </tr>\n",
       "    <tr>\n",
       "      <th>8</th>\n",
       "      <td>Desserts</td>\n",
       "      <td>922</td>\n",
       "    </tr>\n",
       "    <tr>\n",
       "      <th>9</th>\n",
       "      <td>Bakery, Desserts</td>\n",
       "      <td>836</td>\n",
       "    </tr>\n",
       "  </tbody>\n",
       "</table>\n",
       "</div>"
      ],
      "text/plain": [
       "                cuisines  count\n",
       "0           North Indian   4295\n",
       "1              Fast Food   2025\n",
       "2  North Indian, Chinese   1636\n",
       "3                 Bakery   1585\n",
       "4           South Indian   1489\n",
       "5            Street Food   1187\n",
       "6                   Cafe   1098\n",
       "7                 Mithai   1020\n",
       "8               Desserts    922\n",
       "9       Bakery, Desserts    836"
      ]
     },
     "execution_count": 30,
     "metadata": {},
     "output_type": "execute_result"
    }
   ],
   "source": [
    "by_cuisines=df['cuisines'].value_counts().head(10).reset_index()\n",
    "by_cuisines"
   ]
  },
  {
   "cell_type": "code",
   "execution_count": 31,
   "id": "a6b1efb0",
   "metadata": {},
   "outputs": [
    {
     "data": {
      "image/png": "[encoded data removed]",
      "text/plain": [
       "<Figure size 432x288 with 1 Axes>"
      ]
     },
     "metadata": {
      "needs_background": "light"
     },
     "output_type": "display_data"
    }
   ],
   "source": [
    "sns.barplot(y='cuisines',x='count',data=by_cuisines,palette='viridis')\n",
    "plt.title('Top 10 Restaurants by cuisines type',fontsize=15,fontweight='bold',color='black')\n",
    "plt.xlabel('No.of Restaurants',fontsize=15,fontweight='bold')\n",
    "plt.ylabel('Cuisines',fontsize=15,fontweight='bold')\n",
    "plt.show()"
   ]
  },
  {
   "cell_type": "markdown",
   "id": "c7ce89af",
   "metadata": {},
   "source": [
    "* The bar graph presents number of restaurants categorized by cuisines type they serve.\n",
    "* The chart shows that North Indian cuisine has the highest number of restaurants around 4500+ which is followed by Fast Food 2000+ and a combination of North Indian 1800+, Chinese cuisines.\n",
    "* Chinese food comes second in the list of cuisines that Indians prefer,more than fast food, desserts and South Indian food.\n",
    "* Other notable categories include Bakery, South Indian, Street Food."
   ]
  },
  {
   "cell_type": "markdown",
   "id": "41b20c26",
   "metadata": {},
   "source": [
    "### Number of Restaurants by Price Range\n"
   ]
  },
  {
   "cell_type": "code",
   "execution_count": 32,
   "id": "9c2f3736",
   "metadata": {},
   "outputs": [
    {
     "data": {
      "image/png": "[encoded data removed]",
      "text/plain": [
       "<Figure size 432x288 with 1 Axes>"
      ]
     },
     "metadata": {
      "needs_background": "light"
     },
     "output_type": "display_data"
    }
   ],
   "source": [
    "ax=sns.countplot(x='price_range',data=df,palette='cubehelix')\n",
    "\n",
    "plt.title('No.of Restaurants by Price Range',fontsize=15,fontweight='bold')\n",
    "plt.xlabel('Price Category',fontsize=15,fontweight='bold')\n",
    "plt.ylabel('No.of Restaurants',fontsize=15,fontweight='bold')\n",
    "handles = [plt.Rectangle((0, 0), 1, 1, color=bar.get_facecolor()) for bar in ax.patches[:4]]\n",
    "labels = ['1-Inexpensive', '2-Moderate', '3-Expensive', '4-Very Expensive']\n",
    "\n",
    "plt.legend(handles, labels, title='Price Range', loc='upper right')\n",
    "\n",
    "plt.show()"
   ]
  },
  {
   "cell_type": "markdown",
   "id": "5e50eed1",
   "metadata": {},
   "source": [
    "* Price Category 1 (Inexpensive) has the highest number of restaurants, followed by Price Category 2 (Moderate).\n",
    "* Price Category 3 (Expensive) and Price Category 4 (Very Expensive) have significantly lower numbers of restaurants compared to the first two categories.\n",
    "* The number of restaurants decreases as the price category increases, indicating a higher demand for more affordable dining options."
   ]
  },
  {
   "cell_type": "markdown",
   "id": "85137f38",
   "metadata": {},
   "source": [
    "### Luxury Restaurants: Top 10 by Cost"
   ]
  },
  {
   "cell_type": "code",
   "execution_count": 33,
   "id": "40ec03ab",
   "metadata": {},
   "outputs": [
    {
     "data": {
      "text/html": [
       "<div>\n",
       "<style scoped>\n",
       "    .dataframe tbody tr th:only-of-type {\n",
       "        vertical-align: middle;\n",
       "    }\n",
       "\n",
       "    .dataframe tbody tr th {\n",
       "        vertical-align: top;\n",
       "    }\n",
       "\n",
       "    .dataframe thead th {\n",
       "        text-align: right;\n",
       "    }\n",
       "</style>\n",
       "<table border=\"1\" class=\"dataframe\">\n",
       "  <thead>\n",
       "    <tr style=\"text-align: right;\">\n",
       "      <th></th>\n",
       "      <th>name</th>\n",
       "      <th>establishment</th>\n",
       "      <th>city</th>\n",
       "      <th>average_cost_for_two</th>\n",
       "    </tr>\n",
       "  </thead>\n",
       "  <tbody>\n",
       "    <tr>\n",
       "      <th>0</th>\n",
       "      <td>Ocean - The Private Dining Room - Sahara Star</td>\n",
       "      <td>Fine Dining</td>\n",
       "      <td>Mumbai</td>\n",
       "      <td>30000</td>\n",
       "    </tr>\n",
       "    <tr>\n",
       "      <th>1</th>\n",
       "      <td>Gol Bungalow - Taj Falaknuma Palace</td>\n",
       "      <td>Fine Dining</td>\n",
       "      <td>Hyderabad</td>\n",
       "      <td>15000</td>\n",
       "    </tr>\n",
       "    <tr>\n",
       "      <th>2</th>\n",
       "      <td>Bhairo</td>\n",
       "      <td>Fine Dining</td>\n",
       "      <td>Udaipur</td>\n",
       "      <td>15000</td>\n",
       "    </tr>\n",
       "    <tr>\n",
       "      <th>3</th>\n",
       "      <td>Fly Dining</td>\n",
       "      <td>Fine Dining</td>\n",
       "      <td>Bangalore</td>\n",
       "      <td>14000</td>\n",
       "    </tr>\n",
       "    <tr>\n",
       "      <th>4</th>\n",
       "      <td>Trophy Bar- Umaid Bhawan Palace</td>\n",
       "      <td>Bar</td>\n",
       "      <td>Jodhpur</td>\n",
       "      <td>12000</td>\n",
       "    </tr>\n",
       "    <tr>\n",
       "      <th>5</th>\n",
       "      <td>Pillars - Umaid Bhawan Palace</td>\n",
       "      <td>Fine Dining</td>\n",
       "      <td>Jodhpur</td>\n",
       "      <td>12000</td>\n",
       "    </tr>\n",
       "    <tr>\n",
       "      <th>6</th>\n",
       "      <td>Risala- Umaid Bhawan Palace</td>\n",
       "      <td>Fine Dining</td>\n",
       "      <td>Jodhpur</td>\n",
       "      <td>12000</td>\n",
       "    </tr>\n",
       "    <tr>\n",
       "      <th>7</th>\n",
       "      <td>Wasabi By Morimoto - The Taj Mahal Palace</td>\n",
       "      <td>Fine Dining</td>\n",
       "      <td>Mumbai</td>\n",
       "      <td>10000</td>\n",
       "    </tr>\n",
       "    <tr>\n",
       "      <th>8</th>\n",
       "      <td>Whiskys - Deltin Royale</td>\n",
       "      <td>Bar</td>\n",
       "      <td>Goa</td>\n",
       "      <td>8000</td>\n",
       "    </tr>\n",
       "    <tr>\n",
       "      <th>9</th>\n",
       "      <td>Adaa - Taj Falaknuma Palace</td>\n",
       "      <td>Fine Dining</td>\n",
       "      <td>Hyderabad</td>\n",
       "      <td>8000</td>\n",
       "    </tr>\n",
       "  </tbody>\n",
       "</table>\n",
       "</div>"
      ],
      "text/plain": [
       "                                            name establishment       city  \\\n",
       "0  Ocean - The Private Dining Room - Sahara Star   Fine Dining     Mumbai   \n",
       "1            Gol Bungalow - Taj Falaknuma Palace   Fine Dining  Hyderabad   \n",
       "2                                         Bhairo   Fine Dining    Udaipur   \n",
       "3                                     Fly Dining   Fine Dining  Bangalore   \n",
       "4                Trophy Bar- Umaid Bhawan Palace           Bar    Jodhpur   \n",
       "5                  Pillars - Umaid Bhawan Palace   Fine Dining    Jodhpur   \n",
       "6                    Risala- Umaid Bhawan Palace   Fine Dining    Jodhpur   \n",
       "7      Wasabi By Morimoto - The Taj Mahal Palace   Fine Dining     Mumbai   \n",
       "8                        Whiskys - Deltin Royale           Bar        Goa   \n",
       "9                    Adaa - Taj Falaknuma Palace   Fine Dining  Hyderabad   \n",
       "\n",
       "   average_cost_for_two  \n",
       "0                 30000  \n",
       "1                 15000  \n",
       "2                 15000  \n",
       "3                 14000  \n",
       "4                 12000  \n",
       "5                 12000  \n",
       "6                 12000  \n",
       "7                 10000  \n",
       "8                  8000  \n",
       "9                  8000  "
      ]
     },
     "execution_count": 33,
     "metadata": {},
     "output_type": "execute_result"
    }
   ],
   "source": [
    "luxury=df.groupby(['name','establishment','city'])['average_cost_for_two'].max().sort_values(ascending=False).head(10).reset_index()\n",
    "luxury"
   ]
  },
  {
   "cell_type": "code",
   "execution_count": 34,
   "id": "70ba356f",
   "metadata": {},
   "outputs": [
    {
     "data": {
      "image/png": "[encoded data removed]",
      "text/plain": [
       "<Figure size 864x432 with 1 Axes>"
      ]
     },
     "metadata": {
      "needs_background": "light"
     },
     "output_type": "display_data"
    }
   ],
   "source": [
    "plt.figure(figsize=(12, 6))\n",
    "sns.barplot(y='name', x='average_cost_for_two', data=luxury, palette='Reds_r')\n",
    "plt.title('Top 10 Luxury Restaurants by Cost for Two', fontsize=15, fontweight='bold')\n",
    "plt.xlabel('Average Cost for Two', fontsize=15, fontweight='bold')\n",
    "plt.ylabel('Restaurant Name', fontsize=15, fontweight='bold')\n",
    "plt.show()"
   ]
  },
  {
   "cell_type": "markdown",
   "id": "77e3702a",
   "metadata": {},
   "source": [
    "* Ocean - The Private Dining Room, Sahara Star is the most expensive restaurant on the list, with an average cost for two of around 30,000 rupees.\n",
    "* The other restaurants on the list also have high average costs, ranging from 10,000 to 25,000 rupees.\n",
    "* Umaid Bhawan Palace has three restaurants in the top 10, indicating its reputation for luxury dining.\n",
    "* Taj Falaknuma Palace also has multiple restaurants on the list."
   ]
  },
  {
   "cell_type": "markdown",
   "id": "eb9d8e24",
   "metadata": {},
   "source": [
    "### Aggregate Ratings Comparison Across Different Establishment Types\n"
   ]
  },
  {
   "cell_type": "code",
   "execution_count": 35,
   "id": "c82f35a3",
   "metadata": {
    "scrolled": false
   },
   "outputs": [
    {
     "data": {
      "image/png": "[encoded data removed]",
      "text/plain": [
       "<Figure size 720x432 with 1 Axes>"
      ]
     },
     "metadata": {
      "needs_background": "light"
     },
     "output_type": "display_data"
    }
   ],
   "source": [
    "plt.figure(figsize=(10, 6))\n",
    "sns.boxplot(x='establishment', y='aggregate_rating', data=df.explode('establishment'))\n",
    "plt.xticks(rotation=90)\n",
    "plt.title('Aggregate Rating by Establishment Type')\n",
    "plt.show()"
   ]
  },
  {
   "cell_type": "markdown",
   "id": "17daed6f",
   "metadata": {},
   "source": [
    "* Fine Dining establishments have the highest median aggregate rating, indicating they generally receive higher ratings from customers.\n",
    "* Quick Bites and Cafe establishments have the lowest median aggregate ratings, suggesting they may need to improve their customer experience.\n",
    "* The interquartile range (IQR), represented by the box, varies across different establishment types. A larger IQR indicates a wider range of ratings, while a smaller IQR suggests more consistent ratings.\n",
    "* There are outliers in some establishment types, such as Food Court and Bar, indicating these types have some establishments with significantly higher or lower ratings than the rest."
   ]
  },
  {
   "cell_type": "markdown",
   "id": "c01533f1",
   "metadata": {},
   "source": [
    "### Analyzing the Relationship Between Price Range and Aggregate Ratings\n",
    "\n"
   ]
  },
  {
   "cell_type": "code",
   "execution_count": 36,
   "id": "04fc6857",
   "metadata": {
    "scrolled": true
   },
   "outputs": [
    {
     "data": {
      "image/png": "[encoded data removed]",
      "text/plain": [
       "<Figure size 432x288 with 1 Axes>"
      ]
     },
     "metadata": {
      "needs_background": "light"
     },
     "output_type": "display_data"
    }
   ],
   "source": [
    "sns.boxplot(x='price_range',y='aggregate_rating',data=df)\n",
    "\n",
    "plt.title(\"Relationship Between Price & Ratings\",fontsize=15,fontweight='bold')\n",
    "plt.xlabel(\"Price Range\",fontsize=15,fontweight='bold')\n",
    "plt.ylabel(\"Aggregate Rating\",fontsize=15,fontweight='bold')\n",
    "plt.show()"
   ]
  },
  {
   "cell_type": "markdown",
   "id": "f9b38bfc",
   "metadata": {},
   "source": [
    "* As the price range increases from 1 to 4, the median aggregate rating also increases. This suggests that more expensive options tend to receive higher ratings on average.\n",
    "* The first price range (price range = 1) has a significantly wider interquartile range (IQR) compared to the other price ranges. This indicates that cheaper restaurants or products have a larger variation in ratings, ranging from very low to moderately high.\n",
    "* The price ranges 3 and 4 show narrower boxes (smaller IQRs), which means that the ratings for more expensive items or restaurants tend to be more consistent, clustering around higher values.\n",
    "* While the higher price ranges (3 and 4) have higher median ratings, there are a few outliers present, indicating that even expensive restaurants can occasionally receive lower ratings."
   ]
  },
  {
   "cell_type": "code",
   "execution_count": 37,
   "id": "8c5c1906",
   "metadata": {},
   "outputs": [
    {
     "data": {
      "image/png": "[encoded data removed]",
      "text/plain": [
       "<Figure size 720x432 with 2 Axes>"
      ]
     },
     "metadata": {
      "needs_background": "light"
     },
     "output_type": "display_data"
    }
   ],
   "source": [
    "plt.figure(figsize=(10, 6))\n",
    "sns.heatmap(df[['aggregate_rating', 'votes', 'price_range', 'photo_count']].corr(), annot=True, cmap='coolwarm')\n",
    "plt.title('Correlation Heatmap')\n",
    "plt.show()"
   ]
  },
  {
   "cell_type": "markdown",
   "id": "29d573b1",
   "metadata": {},
   "source": [
    "* Votes and Photos are highly correlated, meaning more popular restaurants tend to have more photos.\n",
    "* The relationships between rating, votes, and price range are positive but relatively weak.\n",
    "* The heatmap is useful to understand how different factors (rating, votes, pricing, photos) interact with each other in the context of the Zomato dataset."
   ]
  },
  {
   "cell_type": "markdown",
   "id": "49af1689",
   "metadata": {},
   "source": [
    "### Service Availability"
   ]
  },
  {
   "cell_type": "code",
   "execution_count": 38,
   "id": "e15fd7fd",
   "metadata": {},
   "outputs": [],
   "source": [
    "def check(input_list):\n",
    "    if 'Delivery' in input_list:\n",
    "        return 'Delivery Available'\n",
    "    elif 'Takeaway Available' in input_list:\n",
    "        return 'Takeaway Available'\n",
    "    else:\n",
    "        return 'No Delivery Available'"
   ]
  },
  {
   "cell_type": "code",
   "execution_count": 39,
   "id": "4546e6b2",
   "metadata": {},
   "outputs": [
    {
     "data": {
      "text/html": [
       "<div>\n",
       "<style scoped>\n",
       "    .dataframe tbody tr th:only-of-type {\n",
       "        vertical-align: middle;\n",
       "    }\n",
       "\n",
       "    .dataframe tbody tr th {\n",
       "        vertical-align: top;\n",
       "    }\n",
       "\n",
       "    .dataframe thead th {\n",
       "        text-align: right;\n",
       "    }\n",
       "</style>\n",
       "<table border=\"1\" class=\"dataframe\">\n",
       "  <thead>\n",
       "    <tr style=\"text-align: right;\">\n",
       "      <th></th>\n",
       "      <th>highlights</th>\n",
       "      <th>count</th>\n",
       "    </tr>\n",
       "  </thead>\n",
       "  <tbody>\n",
       "    <tr>\n",
       "      <th>0</th>\n",
       "      <td>Takeaway Available</td>\n",
       "      <td>24769</td>\n",
       "    </tr>\n",
       "    <tr>\n",
       "      <th>1</th>\n",
       "      <td>Delivery Available</td>\n",
       "      <td>23907</td>\n",
       "    </tr>\n",
       "    <tr>\n",
       "      <th>2</th>\n",
       "      <td>No Delivery Available</td>\n",
       "      <td>6892</td>\n",
       "    </tr>\n",
       "  </tbody>\n",
       "</table>\n",
       "</div>"
      ],
      "text/plain": [
       "              highlights  count\n",
       "0     Takeaway Available  24769\n",
       "1     Delivery Available  23907\n",
       "2  No Delivery Available   6892"
      ]
     },
     "execution_count": 39,
     "metadata": {},
     "output_type": "execute_result"
    }
   ],
   "source": [
    "ff=df['highlights'].apply(check).value_counts().reset_index()\n",
    "ff"
   ]
  },
  {
   "cell_type": "code",
   "execution_count": 40,
   "id": "c82e2932",
   "metadata": {
    "scrolled": true
   },
   "outputs": [
    {
     "data": {
      "image/png": "[encoded data removed]",
      "text/plain": [
       "<Figure size 432x288 with 1 Axes>"
      ]
     },
     "metadata": {},
     "output_type": "display_data"
    }
   ],
   "source": [
    "ex = [0.0, 0.0, 0.2]\n",
    "plt.pie(\n",
    "    ff['count'],\n",
    "    explode=ex,\n",
    "    autopct='%1.1f%%',\n",
    "    shadow=True,\n",
    "    radius=1,\n",
    "    textprops={\"fontsize\": 10, \"fontweight\": 'bold'},\n",
    "    wedgeprops={\"linewidth\": 1, \"edgecolor\": 'black'},\n",
    "    rotatelabels=False\n",
    ")\n",
    "plt.title(\"Restaurant Services Availability\", fontsize=15, fontweight='bold')\n",
    "plt.legend(labels=ff['highlights'], loc='upper right', bbox_to_anchor=(1.5, 1))\n",
    "plt.show()"
   ]
  },
  {
   "cell_type": "markdown",
   "id": "6267c6e4",
   "metadata": {},
   "source": [
    "* The pie chart shows the Restaurant Service Availability. the pie chart is divided ito three slices.\n",
    "* “Take away Availability”, “Delivery Available” & “no delivery Available”.\n",
    "* The slice labelled with “Take away Availability” accounts for 44.6% of restaurants. This shows that almost half of the restaurants offering takeaway service.\n",
    "* The slice labelled with “Delivery Available” accounts for 43.0% of restaurants. This shows that almost half of the restaurants provide Delivery services.\n",
    "* The slice labelled with “no delivery Available” accounts for 12.4% of restaurants. Are no providing takeaways and delivery services maybe these restaurants are in the category of most expensive restaurants."
   ]
  },
  {
   "cell_type": "markdown",
   "id": "209bb4e5",
   "metadata": {},
   "source": [
    "# Conclusion "
   ]
  },
  {
   "cell_type": "markdown",
   "id": "3bbcc786",
   "metadata": {},
   "source": [
    "By analysing this dataset uncovered various insights from the data we find out top 20 cities, top cuisines, price categories, relationship between price and categories. Most expensive restaurants, service availability like take aways available, delivery and no delivery available. these insights provide comprehensive understanding about the restaurant industry in our India which helps to make strategic decisions and also help to our stakeholders to take decisions. Overall These insights provide a comprehensive understanding of the restaurant landscape. In summary, the analysis provided insights into the characteristics of restaurants across India, including their geographic distribution, establishment types, cuisines, pricing, and delivery/takeaway services. The data cleaning and exploratory analysis highlighted important patterns and trends within the dataset."
   ]
  }
 ],
 "metadata": {
  "kernelspec": {
   "display_name": "Python 3 (ipykernel)",
   "language": "python",
   "name": "python3"
  },
  "language_info": {
   "codemirror_mode": {
    "name": "ipython",
    "version": 3
   },
   "file_extension": ".py",
   "mimetype": "text/x-python",
   "name": "python",
   "nbconvert_exporter": "python",
   "pygments_lexer": "ipython3",
   "version": "3.9.12"
  }
 },
 "nbformat": 4,
 "nbformat_minor": 5
}
